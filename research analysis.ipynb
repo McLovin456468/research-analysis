{
 "cells": [
  {
   "cell_type": "markdown",
   "metadata": {
    "id": "-VFbjcb3Awb7"
   },
   "source": [
    "# Исследование объявлений о продаже квартир\n",
    "\n",
    "В вашем распоряжении данные сервиса Яндекс Недвижимость — архив объявлений о продаже квартир в Санкт-Петербурге и соседних населённых пунктах за несколько лет. Вам нужно научиться определять рыночную стоимость объектов недвижимости. Для этого проведите исследовательский анализ данных и установите параметры, влияющие на цену объектов. Это позволит построить автоматизированную систему: она отследит аномалии и мошенническую деятельность.\n",
    "\n",
    "По каждой квартире на продажу доступны два вида данных. Первые вписаны пользователем, вторые — получены автоматически на основе картографических данных. Например, расстояние до центра, аэропорта и других объектов — эти данные автоматически получены из геосервисов. Количество парков и водоёмов также заполняется без участия пользователя."
   ]
  },
  {
   "cell_type": "markdown",
   "metadata": {},
   "source": [
    "<div class=\"alert alert-success\">\n",
    "<b>✔️ Комментарий ревьюера v1:</b> \n",
    "<br>Молодец, что добавляешь краткое описание задачи. Это поможет тебе быстро вспомнить о чем проект, если спустя время ты решишь к нему вернуться)\n",
    "</div>"
   ]
  },
  {
   "cell_type": "markdown",
   "metadata": {
    "id": "aeFLH07FAwb9"
   },
   "source": [
    "### Откройте файл с данными и изучите общую информацию"
   ]
  },
  {
   "cell_type": "code",
   "execution_count": 1,
   "metadata": {
    "id": "7MZxY65pAwb9"
   },
   "outputs": [
    {
     "name": "stdout",
     "output_type": "stream",
     "text": [
      "<class 'pandas.core.frame.DataFrame'>\n",
      "RangeIndex: 23699 entries, 0 to 23698\n",
      "Data columns (total 22 columns):\n",
      " #   Column                Non-Null Count  Dtype  \n",
      "---  ------                --------------  -----  \n",
      " 0   total_images          23699 non-null  int64  \n",
      " 1   last_price            23699 non-null  float64\n",
      " 2   total_area            23699 non-null  float64\n",
      " 3   first_day_exposition  23699 non-null  object \n",
      " 4   rooms                 23699 non-null  int64  \n",
      " 5   ceiling_height        14504 non-null  float64\n",
      " 6   floors_total          23613 non-null  float64\n",
      " 7   living_area           21796 non-null  float64\n",
      " 8   floor                 23699 non-null  int64  \n",
      " 9   is_apartment          2775 non-null   object \n",
      " 10  studio                23699 non-null  bool   \n",
      " 11  open_plan             23699 non-null  bool   \n",
      " 12  kitchen_area          21421 non-null  float64\n",
      " 13  balcony               12180 non-null  float64\n",
      " 14  locality_name         23650 non-null  object \n",
      " 15  airports_nearest      18157 non-null  float64\n",
      " 16  cityCenters_nearest   18180 non-null  float64\n",
      " 17  parks_around3000      18181 non-null  float64\n",
      " 18  parks_nearest         8079 non-null   float64\n",
      " 19  ponds_around3000      18181 non-null  float64\n",
      " 20  ponds_nearest         9110 non-null   float64\n",
      " 21  days_exposition       20518 non-null  float64\n",
      "dtypes: bool(2), float64(14), int64(3), object(3)\n",
      "memory usage: 3.7+ MB\n"
     ]
    },
    {
     "data": {
      "text/html": [
       "<div>\n",
       "<style scoped>\n",
       "    .dataframe tbody tr th:only-of-type {\n",
       "        vertical-align: middle;\n",
       "    }\n",
       "\n",
       "    .dataframe tbody tr th {\n",
       "        vertical-align: top;\n",
       "    }\n",
       "\n",
       "    .dataframe thead th {\n",
       "        text-align: right;\n",
       "    }\n",
       "</style>\n",
       "<table border=\"1\" class=\"dataframe\">\n",
       "  <thead>\n",
       "    <tr style=\"text-align: right;\">\n",
       "      <th></th>\n",
       "      <th>total_images</th>\n",
       "      <th>last_price</th>\n",
       "      <th>total_area</th>\n",
       "      <th>first_day_exposition</th>\n",
       "      <th>rooms</th>\n",
       "      <th>ceiling_height</th>\n",
       "      <th>floors_total</th>\n",
       "      <th>living_area</th>\n",
       "      <th>floor</th>\n",
       "      <th>is_apartment</th>\n",
       "      <th>...</th>\n",
       "      <th>kitchen_area</th>\n",
       "      <th>balcony</th>\n",
       "      <th>locality_name</th>\n",
       "      <th>airports_nearest</th>\n",
       "      <th>cityCenters_nearest</th>\n",
       "      <th>parks_around3000</th>\n",
       "      <th>parks_nearest</th>\n",
       "      <th>ponds_around3000</th>\n",
       "      <th>ponds_nearest</th>\n",
       "      <th>days_exposition</th>\n",
       "    </tr>\n",
       "  </thead>\n",
       "  <tbody>\n",
       "    <tr>\n",
       "      <th>0</th>\n",
       "      <td>20</td>\n",
       "      <td>13000000.0</td>\n",
       "      <td>108.00</td>\n",
       "      <td>2019-03-07T00:00:00</td>\n",
       "      <td>3</td>\n",
       "      <td>2.70</td>\n",
       "      <td>16.0</td>\n",
       "      <td>51.0</td>\n",
       "      <td>8</td>\n",
       "      <td>NaN</td>\n",
       "      <td>...</td>\n",
       "      <td>25.00</td>\n",
       "      <td>NaN</td>\n",
       "      <td>Санкт-Петербург</td>\n",
       "      <td>18863.0</td>\n",
       "      <td>16028.0</td>\n",
       "      <td>1.0</td>\n",
       "      <td>482.0</td>\n",
       "      <td>2.0</td>\n",
       "      <td>755.0</td>\n",
       "      <td>NaN</td>\n",
       "    </tr>\n",
       "    <tr>\n",
       "      <th>1</th>\n",
       "      <td>7</td>\n",
       "      <td>3350000.0</td>\n",
       "      <td>40.40</td>\n",
       "      <td>2018-12-04T00:00:00</td>\n",
       "      <td>1</td>\n",
       "      <td>NaN</td>\n",
       "      <td>11.0</td>\n",
       "      <td>18.6</td>\n",
       "      <td>1</td>\n",
       "      <td>NaN</td>\n",
       "      <td>...</td>\n",
       "      <td>11.00</td>\n",
       "      <td>2.0</td>\n",
       "      <td>посёлок Шушары</td>\n",
       "      <td>12817.0</td>\n",
       "      <td>18603.0</td>\n",
       "      <td>0.0</td>\n",
       "      <td>NaN</td>\n",
       "      <td>0.0</td>\n",
       "      <td>NaN</td>\n",
       "      <td>81.0</td>\n",
       "    </tr>\n",
       "    <tr>\n",
       "      <th>2</th>\n",
       "      <td>10</td>\n",
       "      <td>5196000.0</td>\n",
       "      <td>56.00</td>\n",
       "      <td>2015-08-20T00:00:00</td>\n",
       "      <td>2</td>\n",
       "      <td>NaN</td>\n",
       "      <td>5.0</td>\n",
       "      <td>34.3</td>\n",
       "      <td>4</td>\n",
       "      <td>NaN</td>\n",
       "      <td>...</td>\n",
       "      <td>8.30</td>\n",
       "      <td>0.0</td>\n",
       "      <td>Санкт-Петербург</td>\n",
       "      <td>21741.0</td>\n",
       "      <td>13933.0</td>\n",
       "      <td>1.0</td>\n",
       "      <td>90.0</td>\n",
       "      <td>2.0</td>\n",
       "      <td>574.0</td>\n",
       "      <td>558.0</td>\n",
       "    </tr>\n",
       "    <tr>\n",
       "      <th>3</th>\n",
       "      <td>0</td>\n",
       "      <td>64900000.0</td>\n",
       "      <td>159.00</td>\n",
       "      <td>2015-07-24T00:00:00</td>\n",
       "      <td>3</td>\n",
       "      <td>NaN</td>\n",
       "      <td>14.0</td>\n",
       "      <td>NaN</td>\n",
       "      <td>9</td>\n",
       "      <td>NaN</td>\n",
       "      <td>...</td>\n",
       "      <td>NaN</td>\n",
       "      <td>0.0</td>\n",
       "      <td>Санкт-Петербург</td>\n",
       "      <td>28098.0</td>\n",
       "      <td>6800.0</td>\n",
       "      <td>2.0</td>\n",
       "      <td>84.0</td>\n",
       "      <td>3.0</td>\n",
       "      <td>234.0</td>\n",
       "      <td>424.0</td>\n",
       "    </tr>\n",
       "    <tr>\n",
       "      <th>4</th>\n",
       "      <td>2</td>\n",
       "      <td>10000000.0</td>\n",
       "      <td>100.00</td>\n",
       "      <td>2018-06-19T00:00:00</td>\n",
       "      <td>2</td>\n",
       "      <td>3.03</td>\n",
       "      <td>14.0</td>\n",
       "      <td>32.0</td>\n",
       "      <td>13</td>\n",
       "      <td>NaN</td>\n",
       "      <td>...</td>\n",
       "      <td>41.00</td>\n",
       "      <td>NaN</td>\n",
       "      <td>Санкт-Петербург</td>\n",
       "      <td>31856.0</td>\n",
       "      <td>8098.0</td>\n",
       "      <td>2.0</td>\n",
       "      <td>112.0</td>\n",
       "      <td>1.0</td>\n",
       "      <td>48.0</td>\n",
       "      <td>121.0</td>\n",
       "    </tr>\n",
       "    <tr>\n",
       "      <th>...</th>\n",
       "      <td>...</td>\n",
       "      <td>...</td>\n",
       "      <td>...</td>\n",
       "      <td>...</td>\n",
       "      <td>...</td>\n",
       "      <td>...</td>\n",
       "      <td>...</td>\n",
       "      <td>...</td>\n",
       "      <td>...</td>\n",
       "      <td>...</td>\n",
       "      <td>...</td>\n",
       "      <td>...</td>\n",
       "      <td>...</td>\n",
       "      <td>...</td>\n",
       "      <td>...</td>\n",
       "      <td>...</td>\n",
       "      <td>...</td>\n",
       "      <td>...</td>\n",
       "      <td>...</td>\n",
       "      <td>...</td>\n",
       "      <td>...</td>\n",
       "    </tr>\n",
       "    <tr>\n",
       "      <th>23694</th>\n",
       "      <td>9</td>\n",
       "      <td>9700000.0</td>\n",
       "      <td>133.81</td>\n",
       "      <td>2017-03-21T00:00:00</td>\n",
       "      <td>3</td>\n",
       "      <td>3.70</td>\n",
       "      <td>5.0</td>\n",
       "      <td>73.3</td>\n",
       "      <td>3</td>\n",
       "      <td>NaN</td>\n",
       "      <td>...</td>\n",
       "      <td>13.83</td>\n",
       "      <td>NaN</td>\n",
       "      <td>Санкт-Петербург</td>\n",
       "      <td>24665.0</td>\n",
       "      <td>4232.0</td>\n",
       "      <td>1.0</td>\n",
       "      <td>796.0</td>\n",
       "      <td>3.0</td>\n",
       "      <td>381.0</td>\n",
       "      <td>NaN</td>\n",
       "    </tr>\n",
       "    <tr>\n",
       "      <th>23695</th>\n",
       "      <td>14</td>\n",
       "      <td>3100000.0</td>\n",
       "      <td>59.00</td>\n",
       "      <td>2018-01-15T00:00:00</td>\n",
       "      <td>3</td>\n",
       "      <td>NaN</td>\n",
       "      <td>5.0</td>\n",
       "      <td>38.0</td>\n",
       "      <td>4</td>\n",
       "      <td>NaN</td>\n",
       "      <td>...</td>\n",
       "      <td>8.50</td>\n",
       "      <td>NaN</td>\n",
       "      <td>Тосно</td>\n",
       "      <td>NaN</td>\n",
       "      <td>NaN</td>\n",
       "      <td>NaN</td>\n",
       "      <td>NaN</td>\n",
       "      <td>NaN</td>\n",
       "      <td>NaN</td>\n",
       "      <td>45.0</td>\n",
       "    </tr>\n",
       "    <tr>\n",
       "      <th>23696</th>\n",
       "      <td>18</td>\n",
       "      <td>2500000.0</td>\n",
       "      <td>56.70</td>\n",
       "      <td>2018-02-11T00:00:00</td>\n",
       "      <td>2</td>\n",
       "      <td>NaN</td>\n",
       "      <td>3.0</td>\n",
       "      <td>29.7</td>\n",
       "      <td>1</td>\n",
       "      <td>NaN</td>\n",
       "      <td>...</td>\n",
       "      <td>NaN</td>\n",
       "      <td>NaN</td>\n",
       "      <td>село Рождествено</td>\n",
       "      <td>NaN</td>\n",
       "      <td>NaN</td>\n",
       "      <td>NaN</td>\n",
       "      <td>NaN</td>\n",
       "      <td>NaN</td>\n",
       "      <td>NaN</td>\n",
       "      <td>NaN</td>\n",
       "    </tr>\n",
       "    <tr>\n",
       "      <th>23697</th>\n",
       "      <td>13</td>\n",
       "      <td>11475000.0</td>\n",
       "      <td>76.75</td>\n",
       "      <td>2017-03-28T00:00:00</td>\n",
       "      <td>2</td>\n",
       "      <td>3.00</td>\n",
       "      <td>17.0</td>\n",
       "      <td>NaN</td>\n",
       "      <td>12</td>\n",
       "      <td>NaN</td>\n",
       "      <td>...</td>\n",
       "      <td>23.30</td>\n",
       "      <td>2.0</td>\n",
       "      <td>Санкт-Петербург</td>\n",
       "      <td>39140.0</td>\n",
       "      <td>10364.0</td>\n",
       "      <td>2.0</td>\n",
       "      <td>173.0</td>\n",
       "      <td>3.0</td>\n",
       "      <td>196.0</td>\n",
       "      <td>602.0</td>\n",
       "    </tr>\n",
       "    <tr>\n",
       "      <th>23698</th>\n",
       "      <td>4</td>\n",
       "      <td>1350000.0</td>\n",
       "      <td>32.30</td>\n",
       "      <td>2017-07-21T00:00:00</td>\n",
       "      <td>1</td>\n",
       "      <td>2.50</td>\n",
       "      <td>5.0</td>\n",
       "      <td>12.3</td>\n",
       "      <td>1</td>\n",
       "      <td>NaN</td>\n",
       "      <td>...</td>\n",
       "      <td>9.00</td>\n",
       "      <td>NaN</td>\n",
       "      <td>поселок Новый Учхоз</td>\n",
       "      <td>NaN</td>\n",
       "      <td>NaN</td>\n",
       "      <td>NaN</td>\n",
       "      <td>NaN</td>\n",
       "      <td>NaN</td>\n",
       "      <td>NaN</td>\n",
       "      <td>NaN</td>\n",
       "    </tr>\n",
       "  </tbody>\n",
       "</table>\n",
       "<p>23699 rows × 22 columns</p>\n",
       "</div>"
      ],
      "text/plain": [
       "       total_images  last_price  total_area first_day_exposition  rooms  \\\n",
       "0                20  13000000.0      108.00  2019-03-07T00:00:00      3   \n",
       "1                 7   3350000.0       40.40  2018-12-04T00:00:00      1   \n",
       "2                10   5196000.0       56.00  2015-08-20T00:00:00      2   \n",
       "3                 0  64900000.0      159.00  2015-07-24T00:00:00      3   \n",
       "4                 2  10000000.0      100.00  2018-06-19T00:00:00      2   \n",
       "...             ...         ...         ...                  ...    ...   \n",
       "23694             9   9700000.0      133.81  2017-03-21T00:00:00      3   \n",
       "23695            14   3100000.0       59.00  2018-01-15T00:00:00      3   \n",
       "23696            18   2500000.0       56.70  2018-02-11T00:00:00      2   \n",
       "23697            13  11475000.0       76.75  2017-03-28T00:00:00      2   \n",
       "23698             4   1350000.0       32.30  2017-07-21T00:00:00      1   \n",
       "\n",
       "       ceiling_height  floors_total  living_area  floor is_apartment  ...  \\\n",
       "0                2.70          16.0         51.0      8          NaN  ...   \n",
       "1                 NaN          11.0         18.6      1          NaN  ...   \n",
       "2                 NaN           5.0         34.3      4          NaN  ...   \n",
       "3                 NaN          14.0          NaN      9          NaN  ...   \n",
       "4                3.03          14.0         32.0     13          NaN  ...   \n",
       "...               ...           ...          ...    ...          ...  ...   \n",
       "23694            3.70           5.0         73.3      3          NaN  ...   \n",
       "23695             NaN           5.0         38.0      4          NaN  ...   \n",
       "23696             NaN           3.0         29.7      1          NaN  ...   \n",
       "23697            3.00          17.0          NaN     12          NaN  ...   \n",
       "23698            2.50           5.0         12.3      1          NaN  ...   \n",
       "\n",
       "       kitchen_area  balcony        locality_name  airports_nearest  \\\n",
       "0             25.00      NaN      Санкт-Петербург           18863.0   \n",
       "1             11.00      2.0       посёлок Шушары           12817.0   \n",
       "2              8.30      0.0      Санкт-Петербург           21741.0   \n",
       "3               NaN      0.0      Санкт-Петербург           28098.0   \n",
       "4             41.00      NaN      Санкт-Петербург           31856.0   \n",
       "...             ...      ...                  ...               ...   \n",
       "23694         13.83      NaN      Санкт-Петербург           24665.0   \n",
       "23695          8.50      NaN                Тосно               NaN   \n",
       "23696           NaN      NaN     село Рождествено               NaN   \n",
       "23697         23.30      2.0      Санкт-Петербург           39140.0   \n",
       "23698          9.00      NaN  поселок Новый Учхоз               NaN   \n",
       "\n",
       "      cityCenters_nearest  parks_around3000  parks_nearest  ponds_around3000  \\\n",
       "0                 16028.0               1.0          482.0               2.0   \n",
       "1                 18603.0               0.0            NaN               0.0   \n",
       "2                 13933.0               1.0           90.0               2.0   \n",
       "3                  6800.0               2.0           84.0               3.0   \n",
       "4                  8098.0               2.0          112.0               1.0   \n",
       "...                   ...               ...            ...               ...   \n",
       "23694              4232.0               1.0          796.0               3.0   \n",
       "23695                 NaN               NaN            NaN               NaN   \n",
       "23696                 NaN               NaN            NaN               NaN   \n",
       "23697             10364.0               2.0          173.0               3.0   \n",
       "23698                 NaN               NaN            NaN               NaN   \n",
       "\n",
       "       ponds_nearest  days_exposition  \n",
       "0              755.0              NaN  \n",
       "1                NaN             81.0  \n",
       "2              574.0            558.0  \n",
       "3              234.0            424.0  \n",
       "4               48.0            121.0  \n",
       "...              ...              ...  \n",
       "23694          381.0              NaN  \n",
       "23695            NaN             45.0  \n",
       "23696            NaN              NaN  \n",
       "23697          196.0            602.0  \n",
       "23698            NaN              NaN  \n",
       "\n",
       "[23699 rows x 22 columns]"
      ]
     },
     "metadata": {},
     "output_type": "display_data"
    },
    {
     "data": {
      "image/png": "[encoded data removed]",
      "text/plain": [
       "<Figure size 1080x1440 with 20 Axes>"
      ]
     },
     "metadata": {
      "needs_background": "light"
     },
     "output_type": "display_data"
    }
   ],
   "source": [
    "import pandas as pd\n",
    "\n",
    "data = pd.read_csv('/datasets/real_estate_data.csv', sep='\\t')\n",
    "data.info()\n",
    "data.hist(figsize=(15, 20))\n",
    "display(data) #вывожу на экран таблицу\n",
    "data.rename(columns = {'cityCenters_nearest':'city_centers_nearest'}, inplace = True )"
   ]
  },
  {
   "cell_type": "markdown",
   "metadata": {},
   "source": [
    "<div class=\"alert alert-warning\">\n",
    "<b>⚠️ Комментарий ревьюера v1:</b> \n",
    "<br>Все библиотеки лучше импортировать отдельно в первой ячейке. Это позволит тебе в любой момент добавить ещё одну библиотеку без перезаписи переменных.\n",
    "</div>"
   ]
  },
  {
   "cell_type": "markdown",
   "metadata": {},
   "source": [
    "<div class=\"alert alert-danger\">\n",
    "<b>❌ Комментарий ревьюера v1:</b> \n",
    "<br>В этом разделе также важно вывести всю таблицу, чтобы посмотреть как выглядят данные. Используй dispaly\n",
    "</div>"
   ]
  },
  {
   "cell_type": "markdown",
   "metadata": {},
   "source": [
    " <div class=\"alert alert-warning\">\n",
    "<b>⚠️ Комментарий ревьюера v2:</b> \n",
    "<br>Обрати внимание, что часть столбцов заменилась на \"...\". Чтобы это исправить, нужно увеличить максимальное количество отображающихся столбцов командой\n",
    "\t\t\t\n",
    "\tpd.set_option('display.max_columns', None)\n",
    "</div>"
   ]
  },
  {
   "cell_type": "markdown",
   "metadata": {},
   "source": [
    "<div class=\"alert alert-success\">\n",
    "<b>✔️ Комментарий ревьюера v1:</b> \n",
    "<br>Графики построено верно! \n",
    "</div>"
   ]
  },
  {
   "cell_type": "markdown",
   "metadata": {
    "id": "-O5NtivEAwb9"
   },
   "source": [
    "### Выполните предобработку данных"
   ]
  },
  {
   "cell_type": "markdown",
   "metadata": {
    "id": "7v3vAeTuAwb-"
   },
   "source": [
    "Заменим тип данных у следующих признаков >>>\n",
    "- first_day_exposition - так как это дата, то тип данных должен быть преобразован в datetime\n",
    "- floors_total - не должно быть отрицательных или дробных значений, только целочисленные -> преобразуем в int\n",
    "- is_apartment - либо ялвяется апартаментами либо нет -> логический тип данных -> bool\n",
    "- balcony - не должно быть отрицательных или дробных значений, только целочисленные -> преобразуем в int\n",
    "- parks_around3000, ponds_around3000 - не должно быть отрицательных или дробных значений, только целочисленные -> преобразуем в int\n",
    "\n",
    "Пропуски есть в следующих признаках >>>\n",
    "- ceiling_height -  высота потолков (м), скорее всего клиент сам точно не знал высоту потолков.(меняем на среднее или медианное значение)\n",
    "\n",
    "- living_area - скорее всего жилье является студией и вся квартира это living area(меняем на значения total_area)\n",
    "\n",
    "- kitchen_area - скорее всего жилье является студией и клиент не стал указывать размеры кухни(нужно подумать как поменять, можно попробывать установить зависимость столбцов друг от друга при помощи корреляции Пирсона и на этой основе сделать выводы на что заменить пропуски)\n",
    "\n",
    "- locality_name - непонятно почему взялись пропуски, просто заменим строки с пропущенными значениями(пропуски заменяем на 'unknown')\n",
    "\n",
    "- airports_nearest - сбой в работе алгоритма или ошибка клиента при вводе адреса, а может быть, что объект продажи находится не в городе.(оставим как есть)\n",
    "\n",
    "- cityCenters_nearest - сбой в работе алгоритма или ошибка клиента при вводе адреса, а может быть, что объект продажи находится не в городе.(оставим как есть)\n",
    "\n",
    "- days_exposition - если нет данных по длительности обьявления -> его не было или его сразу же сняли.(не меняем пропущенные значения)\n",
    "\n",
    "- floors_total - скорее всего в доме всего один этаж -> (меняем пропуски на 1)\n",
    "\n",
    "- is_apartment - большое количество пропущенных значений обусловлено тем, что эти пропуски означают, что жилье не является апартаметами. Продавцы попросту не стали заполнять, так как посчитали очевидным и не нужным, или потому что пропуск будет значить, что жилье не является апартаметами.(все пропуски меняем на 0)\n",
    "\n",
    "- balcony - если продавец не указал число балконов, то, скорее всего, в его квартире их нет. Такие пропуски можно заменить на число 0.(замена на 0 прущенных значений)\n",
    "\n",
    "- parks_around3000, ponds_around3000 - пропуски скорее всего, указывают,что на таком расстоянии нет парков или водоемов и значение можно заполнить 0.\n",
    "- ponds_nearest, parks_nearest  - это автозаполняемые признаки, пропуски значат сбой в работе алгоритма или ошибка клиента при вводе адреса(наши полномочия тут все, звоним в техподдержку выяснять откуда пропуски)пропуски не трогаем, если нужны будут данные для статистики и анализа, то можно взять срез так как количество непропущенных данных это позволяет.\n",
    "\n"
   ]
  },
  {
   "cell_type": "code",
   "execution_count": 2,
   "metadata": {},
   "outputs": [
    {
     "name": "stdout",
     "output_type": "stream",
     "text": [
      "total_images                0\n",
      "last_price                  0\n",
      "total_area                  0\n",
      "first_day_exposition        0\n",
      "rooms                       0\n",
      "ceiling_height           9195\n",
      "floors_total               86\n",
      "living_area              1903\n",
      "floor                       0\n",
      "is_apartment            20924\n",
      "studio                      0\n",
      "open_plan                   0\n",
      "kitchen_area             2278\n",
      "balcony                 11519\n",
      "locality_name              49\n",
      "airports_nearest         5542\n",
      "city_centers_nearest     5519\n",
      "parks_around3000         5518\n",
      "parks_nearest           15620\n",
      "ponds_around3000         5518\n",
      "ponds_nearest           14589\n",
      "days_exposition          3181\n",
      "dtype: int64\n"
     ]
    }
   ],
   "source": [
    "# Сначала разберемся с типом данных и если возможно сразу заменим некторые пропущенные значения\n",
    "print(data.isnull().sum())\n",
    "\n",
    "data['balcony'] = data['balcony'].fillna(0).astype(int)\n",
    "\n",
    "data['floors_total'] = data['floors_total'].fillna(1).astype(int)\n",
    "\n",
    "data['first_day_exposition'] = pd.to_datetime(data['first_day_exposition'], format = '%Y-%m-%d')\n",
    "\n",
    "data['is_apartment'] = data['is_apartment'].fillna(0).astype('bool')\n",
    "\n",
    "data['parks_around3000'] = data['parks_around3000'].fillna(0)\n",
    "data['parks_around3000'] = data['parks_around3000'].astype(int)\n",
    "data['ponds_around3000'] = data['parks_around3000'].fillna(0)\n",
    "data['ponds_around3000'] = data['parks_around3000'].astype(int)"
   ]
  },
  {
   "cell_type": "markdown",
   "metadata": {},
   "source": [
    "<div class=\"alert alert-warning\">\n",
    "<b>⚠️ Комментарий ревьюера v1:</b> \n",
    "<br>Пропуски в столбце floors_total можно заменить на этаж квартиры либо оставить как есть или либо вообще удалить, так как пропусков меньше 1%\n",
    "</div>"
   ]
  },
  {
   "cell_type": "code",
   "execution_count": 3,
   "metadata": {},
   "outputs": [
    {
     "name": "stdout",
     "output_type": "stream",
     "text": [
      "kitchen_area      1.000000\n",
      "total_area        0.609121\n",
      "last_price        0.519869\n",
      "living_area       0.428674\n",
      "ceiling_height    0.299549\n",
      "Name: kitchen_area, dtype: float64\n"
     ]
    }
   ],
   "source": [
    "# Теперь займемся оставшимися пропущенными значениями, тут же сразу будем обрабатывать аномальные значения и дубликаты)\n",
    "# убираем неявные дубликаты, приводим к нижнему реестру и меняем все ё на е\n",
    "data['locality_name'] = data['locality_name'].str.lower()\n",
    "data['locality_name'] = (\n",
    "    data['locality_name']\n",
    "    .str.replace('ё','е')\n",
    "    .replace(['садовое товарищество ', 'станции ', 'село ', 'пансионат ', 'поселок ','при железнодорожной станции ', 'платформа ', 'садоводческое некоммерческое товарищество ',\n",
    "            'городского типа ',\n",
    "             'деревня ', 'городской поселок '], '', regex=True)\n",
    ")\n",
    "set(data['locality_name'].unique())\n",
    "data['locality_name'] = data['locality_name'].fillna('unknown')\n",
    "\n",
    "data['ceiling_height'] = data['ceiling_height'].fillna(data['ceiling_height'].median())\n",
    "#print(data['ceiling_height'].describe())\n",
    "#Какой высоты потолки в Питере?\n",
    "#Пояса подразделяются на подрайоны, указываемые кириллическими символами. \n",
    "#Минимальный уровень потолков в жилых комнатах для холодных районов IVA, IA, IБ, IГ, IД составляет от 2,7 м,\n",
    "#для всех остальных — 2,5 м и более.\n",
    "#Максимальная высота стен не регламентирована, однако новые дома строятся с показателем не более 3,2 м.\n",
    "data.loc[data['ceiling_height'] >= 20, 'ceiling_height'] = data['ceiling_height']/10\n",
    "data.loc[data['ceiling_height'] <= 2.5, 'ceiling_height'] = 2.5\n",
    "\n",
    "# проверяем зависимость\n",
    "print(data.corr().sort_values(by='kitchen_area', ascending=False)['kitchen_area'].head())\n",
    "# явной зависимости почти нет, меняем на 0\n",
    "data['kitchen_area'] = data['kitchen_area'].fillna(0)\n",
    "\n",
    "data['living_area'] = data['living_area'].fillna(data['total_area'])"
   ]
  },
  {
   "cell_type": "markdown",
   "metadata": {},
   "source": [
    "<div class=\"alert alert-success\">\n",
    "<b>✔️ Комментарий ревьюера v1:</b> \n",
    "<br>Дубликаты удалены верно, но лучше постараться автоматизировать этот процесс)\n",
    "</div>"
   ]
  },
  {
   "cell_type": "markdown",
   "metadata": {},
   "source": [
    "<div class=\"alert alert-success\">\n",
    "<b>✔️ Комментарий ревьюера v1:</b> \n",
    "<br>Согласен с таким решением для столбца с высотой потолков, так как основная часть данных в этом столбце находится в небольшом диапазоне.\n",
    "</div>"
   ]
  },
  {
   "cell_type": "markdown",
   "metadata": {},
   "source": [
    "<div class=\"alert alert-warning\">\n",
    "<b>⚠️ Комментарий ревьюера v1:</b> \n",
    "<br>Для столбцов living_area / kithen_area можно найти соотношение средней жилой / кухонной площади к средней общей площади и использовать полученное значение для замены пропусков\n",
    "</div>"
   ]
  },
  {
   "cell_type": "markdown",
   "metadata": {
    "id": "QCcvyY6YAwb-"
   },
   "source": [
    "### Добавьте в таблицу новые столбцы"
   ]
  },
  {
   "cell_type": "code",
   "execution_count": 4,
   "metadata": {
    "id": "Z8eJek3IAwb-"
   },
   "outputs": [],
   "source": [
    "# По порядку идет добавление в таблицу новых столбцов\n",
    "# 1\n",
    "data['price_of_one_square_meter'] = (data['last_price']/data['total_area']).round(2)\n",
    "# 2\n",
    "data['day_of_publication'] = data['first_day_exposition'].dt.weekday \n",
    "# 3\n",
    "data['month_of_publication'] = data['first_day_exposition'].dt.month\n",
    "# 4\n",
    "data['year_of_publication'] = data['first_day_exposition'].dt.year \n",
    "# 5\n",
    "def floor(row):\n",
    "    if row['floor'] == 1:\n",
    "        return 'первый'\n",
    "    if row['floor'] == row['floors_total']:\n",
    "        return 'последний'\n",
    "    else:\n",
    "        return 'другой'\n",
    "data['type_floor'] = data.apply(floor, axis=1) \n",
    "# 6\n",
    "data['city_centers_nearest_km'] = (data['city_centers_nearest'] / 1000).round(0)"
   ]
  },
  {
   "cell_type": "markdown",
   "metadata": {},
   "source": [
    "<div class=\"alert alert-success\">\n",
    "<b>✔️ Комментарий ревьюера v1:</b> \n",
    "<br>Все необходимые колонки добавлены. Идём дальше)\n",
    "</div>"
   ]
  },
  {
   "cell_type": "markdown",
   "metadata": {
    "id": "pPyxrKWTAwb-"
   },
   "source": [
    "### Проведите исследовательский анализ данных"
   ]
  },
  {
   "cell_type": "code",
   "execution_count": 5,
   "metadata": {
    "id": "V2f0D3kLAwb-"
   },
   "outputs": [
    {
     "name": "stdout",
     "output_type": "stream",
     "text": [
      "count    23699.000000\n",
      "mean        60.348651\n",
      "std         35.654083\n",
      "min         12.000000\n",
      "25%         40.000000\n",
      "50%         52.000000\n",
      "75%         69.900000\n",
      "max        900.000000\n",
      "Name: total_area, dtype: float64\n"
     ]
    },
    {
     "data": {
      "image/png": "[encoded data removed]",
      "text/plain": [
       "<Figure size 432x288 with 1 Axes>"
      ]
     },
     "metadata": {
      "needs_background": "light"
     },
     "output_type": "display_data"
    }
   ],
   "source": [
    "# общая площадь\n",
    "print(data['total_area'].describe())\n",
    "import matplotlib.pyplot as plt\n",
    "plt.hist(data['total_area'], bins=100, range=(12,100))\n",
    "plt.title('Зависимость квартир в продаже от площади квартир')\n",
    "plt.xlabel('Квадратные метры')\n",
    "plt.ylabel('Количество квартир')\n",
    "plt.show()"
   ]
  },
  {
   "cell_type": "code",
   "execution_count": 6,
   "metadata": {},
   "outputs": [
    {
     "name": "stdout",
     "output_type": "stream",
     "text": [
      "count    23699.000000\n",
      "mean        36.775430\n",
      "std         25.902159\n",
      "min          2.000000\n",
      "25%         19.000000\n",
      "50%         31.000000\n",
      "75%         44.000000\n",
      "max        631.000000\n",
      "Name: living_area, dtype: float64\n"
     ]
    },
    {
     "data": {
      "image/png": "[encoded data removed]",
      "text/plain": [
       "<Figure size 432x288 with 1 Axes>"
      ]
     },
     "metadata": {
      "needs_background": "light"
     },
     "output_type": "display_data"
    }
   ],
   "source": [
    "# жилая площадь\n",
    "print(data['living_area'].describe())\n",
    "import matplotlib.pyplot as plt\n",
    "plt.hist(data['living_area'], bins=100, range=(10,60))\n",
    "plt.title('Зависимость квартир в продаже от размеров жилой площади')\n",
    "plt.xlabel('Квадратные метры')\n",
    "plt.ylabel('Количество квартир')\n",
    "plt.show()"
   ]
  },
  {
   "cell_type": "code",
   "execution_count": 7,
   "metadata": {},
   "outputs": [
    {
     "name": "stdout",
     "output_type": "stream",
     "text": [
      "count    23699.000000\n",
      "mean         9.553814\n",
      "std          6.420973\n",
      "min          0.000000\n",
      "25%          6.300000\n",
      "50%          9.000000\n",
      "75%         11.440000\n",
      "max        112.000000\n",
      "Name: kitchen_area, dtype: float64\n"
     ]
    },
    {
     "data": {
      "image/png": "[encoded data removed]",
      "text/plain": [
       "<Figure size 432x288 with 1 Axes>"
      ]
     },
     "metadata": {
      "needs_background": "light"
     },
     "output_type": "display_data"
    }
   ],
   "source": [
    "# площадь кухни\n",
    "print(data['kitchen_area'].describe())\n",
    "import matplotlib.pyplot as plt\n",
    "plt.hist(data['kitchen_area'], bins=100, range=(4,15))\n",
    "plt.title('Зависимость квартир в продаже от размеров кухни')\n",
    "plt.xlabel('Квадратные метры')\n",
    "plt.ylabel('Количество квартир')\n",
    "plt.show()"
   ]
  },
  {
   "cell_type": "code",
   "execution_count": 8,
   "metadata": {},
   "outputs": [
    {
     "name": "stdout",
     "output_type": "stream",
     "text": [
      "count    2.369900e+04\n",
      "mean     6.541549e+06\n",
      "std      1.088701e+07\n",
      "min      1.219000e+04\n",
      "25%      3.400000e+06\n",
      "50%      4.650000e+06\n",
      "75%      6.800000e+06\n",
      "max      7.630000e+08\n",
      "Name: last_price, dtype: float64\n"
     ]
    },
    {
     "data": {
      "image/png": "[encoded data removed]",
      "text/plain": [
       "<Figure size 432x288 with 1 Axes>"
      ]
     },
     "metadata": {
      "needs_background": "light"
     },
     "output_type": "display_data"
    }
   ],
   "source": [
    "# цена объекта\n",
    "print(data['last_price'].describe())\n",
    "data['last_price'].round(2)\n",
    "import matplotlib.pyplot as plt\n",
    "plt.hist(data['last_price'], bins=100, range=(1.219000e+04,8.00000e+06))\n",
    "plt.title('Зависимость квартир в продаже от цены обьекта')\n",
    "plt.xlabel('млн.руб')\n",
    "plt.ylabel('Количество квартир')\n",
    "plt.show()"
   ]
  },
  {
   "cell_type": "code",
   "execution_count": 9,
   "metadata": {},
   "outputs": [
    {
     "name": "stdout",
     "output_type": "stream",
     "text": [
      "count    23699.000000\n",
      "mean         2.070636\n",
      "std          1.078405\n",
      "min          0.000000\n",
      "25%          1.000000\n",
      "50%          2.000000\n",
      "75%          3.000000\n",
      "max         19.000000\n",
      "Name: rooms, dtype: float64\n"
     ]
    },
    {
     "data": {
      "image/png": "[encoded data removed]",
      "text/plain": [
       "<Figure size 432x288 with 1 Axes>"
      ]
     },
     "metadata": {
      "needs_background": "light"
     },
     "output_type": "display_data"
    }
   ],
   "source": [
    "# количество комнат\n",
    "print(data['rooms'].describe())\n",
    "import matplotlib.pyplot as plt\n",
    "plt.hist(data['rooms'], bins=9, range=(0,8))\n",
    "plt.title('Зависимость квартир в продаже от количества комнат')\n",
    "plt.xlabel('Количество комнат')\n",
    "plt.ylabel('Количество квартир')\n",
    "plt.show()"
   ]
  },
  {
   "cell_type": "code",
   "execution_count": 10,
   "metadata": {},
   "outputs": [
    {
     "name": "stdout",
     "output_type": "stream",
     "text": [
      "count    23699.000000\n",
      "mean         2.699345\n",
      "std          0.252032\n",
      "min          2.500000\n",
      "25%          2.600000\n",
      "50%          2.650000\n",
      "75%          2.700000\n",
      "max         14.000000\n",
      "Name: ceiling_height, dtype: float64\n"
     ]
    },
    {
     "data": {
      "image/png": "[encoded data removed]",
      "text/plain": [
       "<Figure size 432x288 with 1 Axes>"
      ]
     },
     "metadata": {
      "needs_background": "light"
     },
     "output_type": "display_data"
    }
   ],
   "source": [
    "# высота потолков\n",
    "print(data['ceiling_height'].describe())\n",
    "import matplotlib.pyplot as plt\n",
    "plt.hist(data['ceiling_height'], bins=50, range=(2.5,3))\n",
    "plt.title('Зависимость квартир в продаже от высоты потолков')\n",
    "plt.xlabel('метры')\n",
    "plt.ylabel('Количество квартир')\n",
    "plt.show()"
   ]
  },
  {
   "cell_type": "code",
   "execution_count": 11,
   "metadata": {},
   "outputs": [
    {
     "data": {
      "image/png": "[encoded data removed]",
      "text/plain": [
       "<Figure size 432x288 with 1 Axes>"
      ]
     },
     "metadata": {
      "needs_background": "light"
     },
     "output_type": "display_data"
    }
   ],
   "source": [
    "# тип этажа квартиры\n",
    "# print(data['type_floor'].describe())\n",
    "\n",
    "# код который был\n",
    "# import matplotlib.pyplot as plt\n",
    "# (\n",
    "#     data.pivot_table(index='type_floor', values='last_price', aggfunc='median').sort_values(by='last_price', ascending=False)\n",
    "#     .plot(grid=True, style='x-', figsize=(4, 4), title='Зависимость цены от этажа расположения квартиры')\n",
    "# )\n",
    "# plt.xlabel('Расположение квартиры по этажам ')\n",
    "# plt.ylabel('Цена')\n",
    "# plt.show()\n",
    "\n",
    "# исправленный код\n",
    "import matplotlib.pyplot as plt\n",
    "plt.hist(data['type_floor'], bins=6, range=(0, 3))\n",
    "plt.title('Зависимость квартир в продаже от типа этажей')\n",
    "plt.xlabel('тип этажей')\n",
    "plt.ylabel('Количество квартир')\n",
    "plt.show()\n"
   ]
  },
  {
   "cell_type": "markdown",
   "metadata": {},
   "source": [
    "<div class=\"alert alert-danger\">\n",
    "<b>❌ Комментарий ревьюера v1:</b> \n",
    "<br>Тут нужен график, который бы показал количество квартир каждой категории этажей\n",
    "</div>"
   ]
  },
  {
   "cell_type": "markdown",
   "metadata": {},
   "source": [
    "<div class=\"alert alert-success\">\n",
    "<b>✔️ Комментарий ревьюера v2:</b>\n",
    "<br>Правка выполнена 👍\n",
    "</div>"
   ]
  },
  {
   "cell_type": "code",
   "execution_count": 12,
   "metadata": {},
   "outputs": [
    {
     "name": "stdout",
     "output_type": "stream",
     "text": [
      "count    23699.000000\n",
      "mean        10.638719\n",
      "std          6.610834\n",
      "min          1.000000\n",
      "25%          5.000000\n",
      "50%          9.000000\n",
      "75%         16.000000\n",
      "max         60.000000\n",
      "Name: floors_total, dtype: float64\n"
     ]
    },
    {
     "data": {
      "image/png": "[encoded data removed]",
      "text/plain": [
       "<Figure size 432x288 with 1 Axes>"
      ]
     },
     "metadata": {
      "needs_background": "light"
     },
     "output_type": "display_data"
    }
   ],
   "source": [
    "# общее количество этажей в доме\n",
    "print(data['floors_total'].describe())\n",
    "import matplotlib.pyplot as plt\n",
    "plt.hist(data['floors_total'], bins=100, range=(0,35))\n",
    "plt.title('Зависимость квартир в продаже от общего количества этажей в доме')\n",
    "plt.xlabel('Количество этажей')\n",
    "plt.ylabel('Количество квартир')\n",
    "plt.show()"
   ]
  },
  {
   "cell_type": "code",
   "execution_count": 13,
   "metadata": {},
   "outputs": [
    {
     "name": "stdout",
     "output_type": "stream",
     "text": [
      "count    18180.000000\n",
      "mean     14191.277833\n",
      "std       8608.386210\n",
      "min        181.000000\n",
      "25%       9238.000000\n",
      "50%      13098.500000\n",
      "75%      16293.000000\n",
      "max      65968.000000\n",
      "Name: city_centers_nearest, dtype: float64\n"
     ]
    },
    {
     "data": {
      "image/png": "[encoded data removed]",
      "text/plain": [
       "<Figure size 432x288 with 1 Axes>"
      ]
     },
     "metadata": {
      "needs_background": "light"
     },
     "output_type": "display_data"
    }
   ],
   "source": [
    "# расстояние до центра города в метрах\n",
    "print(data['city_centers_nearest'].describe())\n",
    "import matplotlib.pyplot as plt\n",
    "plt.hist(data['city_centers_nearest'], bins=100, range=(181,30000))\n",
    "plt.title('Зависимость квартир в продаже от расстояния до центра города')\n",
    "plt.xlabel('Метры')\n",
    "plt.ylabel('Количество квартир')\n",
    "plt.show()"
   ]
  },
  {
   "cell_type": "code",
   "execution_count": 14,
   "metadata": {},
   "outputs": [
    {
     "name": "stdout",
     "output_type": "stream",
     "text": [
      "count    8079.000000\n",
      "mean      490.804555\n",
      "std       342.317995\n",
      "min         1.000000\n",
      "25%       288.000000\n",
      "50%       455.000000\n",
      "75%       612.000000\n",
      "max      3190.000000\n",
      "Name: parks_nearest, dtype: float64\n"
     ]
    },
    {
     "data": {
      "image/png": "[encoded data removed]",
      "text/plain": [
       "<Figure size 432x288 with 1 Axes>"
      ]
     },
     "metadata": {
      "needs_background": "light"
     },
     "output_type": "display_data"
    }
   ],
   "source": [
    "# расстояние до ближайшего парка\n",
    "print(data['parks_nearest'].describe())\n",
    "import matplotlib.pyplot as plt\n",
    "plt.hist(data['parks_nearest'], bins=100, range=(1,1000))\n",
    "plt.title('Зависимость квартир в продаже от расстояния до ближайшего парка')\n",
    "plt.xlabel('Метры')\n",
    "plt.ylabel('Количество квартир')\n",
    "plt.show()"
   ]
  },
  {
   "cell_type": "markdown",
   "metadata": {},
   "source": [
    "### Промежуточный вывод к первому пункту"
   ]
  },
  {
   "cell_type": "markdown",
   "metadata": {},
   "source": [
    "Исследовалось количество квартир в зависимости от разных признаков:\n",
    "- общая площадь - на продажу больше всего выставляются квартир с общей площадью от 40 до 69 кв. метров с максимумом около 52 кв. метров.\n",
    "\n",
    "- жилая площадь - квартиры с жилой площадью примерно 18 кв.м и 32 кв.м, притом что в интервале от 20 до 27 замечено проседание и в этом диапазоне меньше всего квартир выставлено на продажу \n",
    "- площадь кухни - больше всего квартир выставлено на продажу с площадью кухни 10, 6 или 8 кв.м\n",
    "- цена объекта - наиболее выставляют жилье с ценой, которая плавает около значения 3,9 млн руб += 0,1 млн\n",
    "- количество комнат - чаще всего на продажу выставляются однушки\n",
    "- высота потолков - чаще всего на продажу выставляются квартиры с потолками примерно 2,65м\n",
    "- тип этажа квартиры («первый», «последний», «другой») - самой чаще продаваемой категорией стали квартиры с типом этажа \"другой\", а самой немногочисленной становиться \"первый\" этаж.\n",
    "- общее количество этажей в доме - больше всего квартир выставляются на продажу в 5 этажных домах\n",
    "- расстояние до центра города в метрах - по гистограмме видно что выставленные на продажу квартиры чаще всего расположены на расстоянии 1200-1500 от центра\n",
    "- расстояние до ближайшего парка - можно сказать что у большего количества  жилья на продаже расстояние до парка примерно 420 или 400 м\n",
    "\n",
    "То есть можно изобразить  среднестатистический портрет продаваемого жилья, квартира однокомнатная, находящаяся не на первом и не на последнем этажах, размером примерно 18 или 32 квадрата, с площадью кухни 6 квадратов, стоимостью 3.9млн рублей и потолками 2,65 метров в пятиэтажном доме расположенном в спальных райноах на росстоянии 1200-1500 м от центра города."
   ]
  },
  {
   "cell_type": "markdown",
   "metadata": {},
   "source": [
    "<div class=\"alert alert-success\">\n",
    "<b>✔️ Комментарий ревьюера v1:</b> \n",
    "<br>Ты корректно подбираешь основные диапазоны, а также верно читаешь графики! \n",
    "</div>"
   ]
  },
  {
   "cell_type": "code",
   "execution_count": 15,
   "metadata": {},
   "outputs": [
    {
     "name": "stdout",
     "output_type": "stream",
     "text": [
      "count    20518.000000\n",
      "mean       180.888634\n",
      "std        219.727988\n",
      "min          1.000000\n",
      "25%         45.000000\n",
      "50%         95.000000\n",
      "75%        232.000000\n",
      "max       1580.000000\n",
      "Name: days_exposition, dtype: float64\n"
     ]
    },
    {
     "data": {
      "image/png": "[encoded data removed]",
      "text/plain": [
       "<Figure size 432x288 with 1 Axes>"
      ]
     },
     "metadata": {
      "needs_background": "light"
     },
     "output_type": "display_data"
    }
   ],
   "source": [
    "# Изучим, как быстро продавались квартиры\n",
    "print(data['days_exposition'].describe())\n",
    "plt.hist(data['days_exposition'], bins=100, range=(1,250))\n",
    "plt.title('Распределение количества продаж по времени')\n",
    "plt.xlabel('Сколько дней было размещено объявление (от публикации до снятия)')\n",
    "plt.ylabel('Количество объявлений')\n",
    "plt.show()"
   ]
  },
  {
   "cell_type": "markdown",
   "metadata": {},
   "source": [
    "### Промежуточный вывод ко второму пункту"
   ]
  },
  {
   "cell_type": "markdown",
   "metadata": {},
   "source": [
    "Итак, в результате исследования были получены медианное(95) и среднее значения(180.8). При нахождении времени за которое обычно продаются квартиры стоит учитывать, что \n",
    "среднее сильно реагирует на выбросы, тем самым искажая наши данные, в отличие от медианы, поэтому медианное значение более точно характеризует время за которое обычно продается жилье, - 95 суток.\n",
    "быстрыми у нас будут считаться продажи сделанные за 45 или менее дней, а аномально долгими продажами будут являться начиная с 232 дней."
   ]
  },
  {
   "cell_type": "markdown",
   "metadata": {},
   "source": [
    "<div class=\"alert alert-success\">\n",
    "<b>✔️ Комментарий ревьюера v1:</b> \n",
    "<br>А как бы ты объяснила эти пики в районе 45 и 60 дней?\n",
    "</div>"
   ]
  },
  {
   "cell_type": "code",
   "execution_count": 16,
   "metadata": {},
   "outputs": [
    {
     "name": "stdout",
     "output_type": "stream",
     "text": [
      "Корреляция: \n",
      "\n",
      "                      day_of_publication  kitchen_area  last_price  \\\n",
      "day_of_publication              1.000000      0.551975    0.323738   \n",
      "kitchen_area                    0.551975      1.000000    0.284824   \n",
      "last_price                      0.323738      0.284824    1.000000   \n",
      "living_area                    -0.041592      0.044782    0.615842   \n",
      "month_of_publication            0.269221     -0.009482   -0.019113   \n",
      "rooms                          -0.059111      0.177180    0.442449   \n",
      "total_area                      0.320962      0.454583    0.738972   \n",
      "year_of_publication             0.181063     -0.254011   -0.052080   \n",
      "\n",
      "                      living_area  month_of_publication     rooms  total_area  \\\n",
      "day_of_publication      -0.041592              0.269221 -0.059111    0.320962   \n",
      "kitchen_area             0.044782             -0.009482  0.177180    0.454583   \n",
      "last_price               0.615842             -0.019113  0.442449    0.738972   \n",
      "living_area              1.000000             -0.176118  0.882177    0.876137   \n",
      "month_of_publication    -0.176118              1.000000 -0.289615   -0.056876   \n",
      "rooms                    0.882177             -0.289615  1.000000    0.811538   \n",
      "total_area               0.876137             -0.056876  0.811538    1.000000   \n",
      "year_of_publication     -0.085768             -0.355876 -0.046553   -0.091682   \n",
      "\n",
      "                      year_of_publication  \n",
      "day_of_publication               0.181063  \n",
      "kitchen_area                    -0.254011  \n",
      "last_price                      -0.052080  \n",
      "living_area                     -0.085768  \n",
      "month_of_publication            -0.355876  \n",
      "rooms                           -0.046553  \n",
      "total_area                      -0.091682  \n",
      "year_of_publication              1.000000   \n",
      "\n"
     ]
    }
   ],
   "source": [
    "# Определим факторы, которые больше всего влияют на общую (полную) стоимость объекта\n",
    "print('Корреляция:','\\n')\n",
    "print(data.pivot_table(index='floor', values=['last_price','total_area','living_area',\n",
    "                                            'kitchen_area','rooms','day_of_publication',\n",
    "                                            'month_of_publication','year_of_publication']).corr(),'\\n')"
   ]
  },
  {
   "cell_type": "code",
   "execution_count": 17,
   "metadata": {},
   "outputs": [
    {
     "name": "stdout",
     "output_type": "stream",
     "text": [
      "Корреляция: \n",
      "\n",
      "              kitchen_area  last_price  living_area     rooms  total_area\n",
      "kitchen_area      1.000000    0.284824     0.044782  0.177180    0.454583\n",
      "last_price        0.284824    1.000000     0.615842  0.442449    0.738972\n",
      "living_area       0.044782    0.615842     1.000000  0.882177    0.876137\n",
      "rooms             0.177180    0.442449     0.882177  1.000000    0.811538\n",
      "total_area        0.454583    0.738972     0.876137  0.811538    1.000000 \n",
      "\n"
     ]
    }
   ],
   "source": [
    "print('Корреляция:','\\n')\n",
    "print(data.pivot_table(index='floor', values=['last_price','total_area','living_area','kitchen_area','rooms']).corr(),'\\n')"
   ]
  },
  {
   "cell_type": "markdown",
   "metadata": {},
   "source": [
    "прямой зависимости нет, нужно обработать данные"
   ]
  },
  {
   "cell_type": "code",
   "execution_count": 18,
   "metadata": {},
   "outputs": [],
   "source": [
    "def quartile(df, column):\n",
    "    q1 = data[column].quantile(0.25)\n",
    "    q3 = data[column].quantile(0.75)\n",
    "    iqr = q3 - q1\n",
    "    dfq = data.loc[(data[column] < q3 + 1.5*iqr) & (data[column] > q1 - 1.5*iqr), column]\n",
    "    return dfq\n",
    "\n",
    "list_features = ['last_price', 'total_area', 'living_area', 'kitchen_area', 'rooms', 'ceiling_height' ]\n",
    "for col in list_features:\n",
    "    data[col] = quartile(data, col)"
   ]
  },
  {
   "cell_type": "markdown",
   "metadata": {},
   "source": [
    "<div class=\"alert alert-success\">\n",
    "<b>✔️ Комментарий ревьюера v1:</b>\n",
    "<br>Диапазоны для аномальных значений подобраны и удалены верно!\n",
    "</div>"
   ]
  },
  {
   "cell_type": "code",
   "execution_count": 19,
   "metadata": {},
   "outputs": [
    {
     "name": "stdout",
     "output_type": "stream",
     "text": [
      "Корреляция: \n",
      "\n",
      "              kitchen_area  last_price  living_area     rooms  total_area\n",
      "kitchen_area      1.000000    0.507438    -0.207443 -0.132606    0.342559\n",
      "last_price        0.507438    1.000000     0.678485  0.551637    0.905255\n",
      "living_area      -0.207443    0.678485     1.000000  0.897720    0.887079\n",
      "rooms            -0.132606    0.551637     0.897720  1.000000    0.786100\n",
      "total_area        0.342559    0.905255     0.887079  0.786100    1.000000 \n",
      "\n"
     ]
    }
   ],
   "source": [
    "print('Корреляция:','\\n')\n",
    "print(data.pivot_table(index='floor', values=['last_price','total_area','living_area','kitchen_area','rooms']).corr(),'\\n')"
   ]
  },
  {
   "cell_type": "markdown",
   "metadata": {},
   "source": [
    "Стали видны зависимости между >>> \n",
    "- ценой и общей площадью\n",
    "- ценой и количеством комнат\n",
    "остальные зависимости либо слабые, либо прямой зависимости нет"
   ]
  },
  {
   "cell_type": "code",
   "execution_count": 20,
   "metadata": {},
   "outputs": [
    {
     "data": {
      "image/png": "[encoded data removed]",
      "text/plain": [
       "<Figure size 360x360 with 1 Axes>"
      ]
     },
     "metadata": {
      "needs_background": "light"
     },
     "output_type": "display_data"
    }
   ],
   "source": [
    "# построим графики \n",
    "(\n",
    "    data.pivot_table(index='total_area', values='last_price')\n",
    "    .plot(grid=True, style='o', figsize=(5, 5))\n",
    ")\n",
    "plt.title('Зависимость цены от общей площади')\n",
    "plt.show()\n"
   ]
  },
  {
   "cell_type": "code",
   "execution_count": 21,
   "metadata": {},
   "outputs": [
    {
     "data": {
      "image/png": "[encoded data removed]",
      "text/plain": [
       "<Figure size 360x360 with 1 Axes>"
      ]
     },
     "metadata": {
      "needs_background": "light"
     },
     "output_type": "display_data"
    }
   ],
   "source": [
    "(\n",
    "    data.pivot_table(index='rooms', values='last_price')\n",
    "    .plot(grid=True, style='o-', figsize=(5, 5))\n",
    ")\n",
    "plt.title('Зависимость цены от числа комнат')\n",
    "plt.show()"
   ]
  },
  {
   "cell_type": "code",
   "execution_count": 22,
   "metadata": {},
   "outputs": [
    {
     "data": {
      "image/png": "[encoded data removed]",
      "text/plain": [
       "<Figure size 360x360 with 1 Axes>"
      ]
     },
     "metadata": {
      "needs_background": "light"
     },
     "output_type": "display_data"
    }
   ],
   "source": [
    "(\n",
    "    data.pivot_table(index='living_area', values='last_price')\n",
    "    .plot(grid=True, style='o', figsize=(5, 5))\n",
    ")\n",
    "plt.title('Зависимость цены от жилой площади')\n",
    "plt.show()"
   ]
  },
  {
   "cell_type": "code",
   "execution_count": 23,
   "metadata": {},
   "outputs": [
    {
     "data": {
      "image/png": "[encoded data removed]",
      "text/plain": [
       "<Figure size 360x360 with 1 Axes>"
      ]
     },
     "metadata": {
      "needs_background": "light"
     },
     "output_type": "display_data"
    }
   ],
   "source": [
    "(\n",
    "    data.pivot_table(index='kitchen_area', values='last_price')\n",
    "    .plot(grid=True, style='o', figsize=(5, 5))\n",
    ")\n",
    "plt.title('Зависимость цены от площади кухни')\n",
    "plt.show()"
   ]
  },
  {
   "cell_type": "code",
   "execution_count": 24,
   "metadata": {},
   "outputs": [
    {
     "data": {
      "image/png": "[encoded data removed]",
      "text/plain": [
       "<Figure size 360x360 with 1 Axes>"
      ]
     },
     "metadata": {
      "needs_background": "light"
     },
     "output_type": "display_data"
    }
   ],
   "source": [
    "(\n",
    "    data.pivot_table(index='type_floor', values='last_price')\n",
    "    .plot(grid=True, style='o-', figsize=(5, 5))\n",
    ")\n",
    "plt.title('Зависимость цены типа этажа расположения')\n",
    "plt.show()"
   ]
  },
  {
   "cell_type": "code",
   "execution_count": 25,
   "metadata": {},
   "outputs": [
    {
     "data": {
      "image/png": "[encoded data removed]",
      "text/plain": [
       "<Figure size 360x360 with 1 Axes>"
      ]
     },
     "metadata": {
      "needs_background": "light"
     },
     "output_type": "display_data"
    }
   ],
   "source": [
    "(\n",
    "    data.pivot_table(index='day_of_publication', values='last_price', aggfunc='median')\n",
    "    .plot(grid=True, style='o-', figsize=(5, 5))\n",
    ")\n",
    "plt.title('Зависимость цены от дня публикации')\n",
    "plt.show()"
   ]
  },
  {
   "cell_type": "code",
   "execution_count": 26,
   "metadata": {},
   "outputs": [
    {
     "data": {
      "image/png": "[encoded data removed]",
      "text/plain": [
       "<Figure size 360x360 with 1 Axes>"
      ]
     },
     "metadata": {
      "needs_background": "light"
     },
     "output_type": "display_data"
    }
   ],
   "source": [
    "(\n",
    "    data.pivot_table(index='month_of_publication', values='last_price', aggfunc='median')\n",
    "    .plot(grid=True, style='o-', figsize=(5, 5))\n",
    ")\n",
    "plt.title('Зависимость цены от месяца публикации')\n",
    "plt.show()"
   ]
  },
  {
   "cell_type": "code",
   "execution_count": 27,
   "metadata": {},
   "outputs": [
    {
     "data": {
      "image/png": "[encoded data removed]",
      "text/plain": [
       "<Figure size 360x360 with 1 Axes>"
      ]
     },
     "metadata": {
      "needs_background": "light"
     },
     "output_type": "display_data"
    }
   ],
   "source": [
    "(\n",
    "    data.pivot_table(index='year_of_publication', values='last_price', aggfunc='median')\n",
    "    .plot(grid=True, style='o-', figsize=(5, 5))\n",
    ")\n",
    "plt.title('Зависимость цены от года публикации')\n",
    "plt.show()"
   ]
  },
  {
   "cell_type": "markdown",
   "metadata": {},
   "source": [
    "### Промежуточный вывод к третьему пункту"
   ]
  },
  {
   "cell_type": "markdown",
   "metadata": {},
   "source": [
    "Исходя из постренных графиков, можно сделать вывод: \n",
    "- С ростом общей площади, растет стоимость. У этих параметров наблюдается высокая Корреляция.\n",
    "\n",
    "- Очевидно что число комнат влияет на стоимость чем больше комнат следует больше жилая площадь и соответственно больше цена.\n",
    "- Первый этаж непосредственно влияет на стоимость квартиры - в среднем квартиры на 1-м этаже значительно дешевле. Чуть дороже последний этаж. Наибольшая стоимость у квартир, расположенных не на 1-м и не на последнем этаже."
   ]
  },
  {
   "cell_type": "markdown",
   "metadata": {},
   "source": [
    "<div class=\"alert alert-success\">\n",
    "<b>✔️ Комментарий ревьюера v1:</b>\n",
    "<br>Зависимость цены изучена верно! Ещё тут можно использовать для визуализации pairplot из библиотеки seaborn \n",
    "    \n",
    "    https://seaborn.pydata.org/generated/seaborn.pairplot.html\n",
    "</div>"
   ]
  },
  {
   "cell_type": "code",
   "execution_count": 28,
   "metadata": {},
   "outputs": [
    {
     "data": {
      "text/html": [
       "<div>\n",
       "<style scoped>\n",
       "    .dataframe tbody tr th:only-of-type {\n",
       "        vertical-align: middle;\n",
       "    }\n",
       "\n",
       "    .dataframe tbody tr th {\n",
       "        vertical-align: top;\n",
       "    }\n",
       "\n",
       "    .dataframe thead th {\n",
       "        text-align: right;\n",
       "    }\n",
       "</style>\n",
       "<table border=\"1\" class=\"dataframe\">\n",
       "  <thead>\n",
       "    <tr style=\"text-align: right;\">\n",
       "      <th></th>\n",
       "      <th>count</th>\n",
       "      <th>price_of_one_square_meter</th>\n",
       "    </tr>\n",
       "    <tr>\n",
       "      <th>locality_name</th>\n",
       "      <th></th>\n",
       "      <th></th>\n",
       "    </tr>\n",
       "  </thead>\n",
       "  <tbody>\n",
       "    <tr>\n",
       "      <th>санкт-петербург</th>\n",
       "      <td>13737</td>\n",
       "      <td>114849.01</td>\n",
       "    </tr>\n",
       "    <tr>\n",
       "      <th>пушкин</th>\n",
       "      <td>338</td>\n",
       "      <td>103125.82</td>\n",
       "    </tr>\n",
       "    <tr>\n",
       "      <th>кудрово</th>\n",
       "      <td>470</td>\n",
       "      <td>95324.93</td>\n",
       "    </tr>\n",
       "    <tr>\n",
       "      <th>парголово</th>\n",
       "      <td>327</td>\n",
       "      <td>90175.91</td>\n",
       "    </tr>\n",
       "    <tr>\n",
       "      <th>мурино</th>\n",
       "      <td>590</td>\n",
       "      <td>86087.51</td>\n",
       "    </tr>\n",
       "    <tr>\n",
       "      <th>шушары</th>\n",
       "      <td>440</td>\n",
       "      <td>78677.36</td>\n",
       "    </tr>\n",
       "    <tr>\n",
       "      <th>колпино</th>\n",
       "      <td>336</td>\n",
       "      <td>75424.58</td>\n",
       "    </tr>\n",
       "    <tr>\n",
       "      <th>гатчина</th>\n",
       "      <td>305</td>\n",
       "      <td>68746.15</td>\n",
       "    </tr>\n",
       "    <tr>\n",
       "      <th>всеволожск</th>\n",
       "      <td>397</td>\n",
       "      <td>68654.47</td>\n",
       "    </tr>\n",
       "    <tr>\n",
       "      <th>выборг</th>\n",
       "      <td>236</td>\n",
       "      <td>58141.91</td>\n",
       "    </tr>\n",
       "  </tbody>\n",
       "</table>\n",
       "</div>"
      ],
      "text/plain": [
       "                 count  price_of_one_square_meter\n",
       "locality_name                                    \n",
       "санкт-петербург  13737                  114849.01\n",
       "пушкин             338                  103125.82\n",
       "кудрово            470                   95324.93\n",
       "парголово          327                   90175.91\n",
       "мурино             590                   86087.51\n",
       "шушары             440                   78677.36\n",
       "колпино            336                   75424.58\n",
       "гатчина            305                   68746.15\n",
       "всеволожск         397                   68654.47\n",
       "выборг             236                   58141.91"
      ]
     },
     "execution_count": 28,
     "metadata": {},
     "output_type": "execute_result"
    }
   ],
   "source": [
    "# Посчитаем среднюю цену одного квадратного метра в 10 населённых пунктах с наибольшим числом объявлений\n",
    "\n",
    "price = data.pivot_table(index='locality_name', values='last_price', aggfunc=['count'])\n",
    "price.columns = ['count']\n",
    "price = price.sort_values(by='count', ascending=False).head(10)\n",
    "price['price_of_one_square_meter'] = data.pivot_table(index='locality_name', values='price_of_one_square_meter').round(2)\n",
    "price.sort_values(by='price_of_one_square_meter', ascending=False)\n"
   ]
  },
  {
   "cell_type": "markdown",
   "metadata": {},
   "source": [
    "### Промежуточный вывод к четвертому пункту"
   ]
  },
  {
   "cell_type": "markdown",
   "metadata": {},
   "source": [
    "Пунктом с самой высокой стоимостью квадратного метра оказался санкт-петербург с 114849.01 за кв.м(еще пушкин с 103125.82 кв.м), а с самой низкой стоимостью - выборг, 58141.91 за кв.м.(еще гатчина 68746.15 кв.м и всеволжск 68654.47 кв.м)"
   ]
  },
  {
   "cell_type": "markdown",
   "metadata": {},
   "source": [
    "<div class=\"alert alert-success\">\n",
    "<b>✔️ Комментарий ревьюера v1:</b> \n",
    "<br>Всё верно! Как вариант, тут можно построить барплот для топ10 по средней цене, так будет более наглядно)\n",
    "</div>"
   ]
  },
  {
   "cell_type": "code",
   "execution_count": 29,
   "metadata": {},
   "outputs": [
    {
     "data": {
      "text/plain": [
       "count    15660.000000\n",
       "mean        11.596041\n",
       "std          4.863594\n",
       "min          0.000000\n",
       "25%          8.000000\n",
       "50%         12.000000\n",
       "75%         15.000000\n",
       "max         29.000000\n",
       "Name: city_centers_nearest_km, dtype: float64"
      ]
     },
     "execution_count": 29,
     "metadata": {},
     "output_type": "execute_result"
    }
   ],
   "source": [
    "# Выделим квартиры в Санкт-Петербурге с помощью столбца \n",
    "# `locality_name` и вычислите их среднюю стоимость на разном удалении от центра\n",
    "\n",
    "data.query('locality_name == \"санкт-петербург\"')['city_centers_nearest_km'].describe()"
   ]
  },
  {
   "cell_type": "code",
   "execution_count": 30,
   "metadata": {},
   "outputs": [
    {
     "data": {
      "image/png": "[encoded data removed]",
      "text/plain": [
       "<Figure size 720x360 with 1 Axes>"
      ]
     },
     "metadata": {
      "needs_background": "light"
     },
     "output_type": "display_data"
    },
    {
     "name": "stdout",
     "output_type": "stream",
     "text": [
      "Таблица средней стоимость квартир в зависимости от удаления центра города Санкт-Петербург\n"
     ]
    },
    {
     "data": {
      "text/html": [
       "<div>\n",
       "<style scoped>\n",
       "    .dataframe tbody tr th:only-of-type {\n",
       "        vertical-align: middle;\n",
       "    }\n",
       "\n",
       "    .dataframe tbody tr th {\n",
       "        vertical-align: top;\n",
       "    }\n",
       "\n",
       "    .dataframe thead th {\n",
       "        text-align: right;\n",
       "    }\n",
       "</style>\n",
       "<table border=\"1\" class=\"dataframe\">\n",
       "  <thead>\n",
       "    <tr style=\"text-align: right;\">\n",
       "      <th></th>\n",
       "      <th>last_price</th>\n",
       "    </tr>\n",
       "    <tr>\n",
       "      <th>city_centers_nearest_km</th>\n",
       "      <th></th>\n",
       "    </tr>\n",
       "  </thead>\n",
       "  <tbody>\n",
       "    <tr>\n",
       "      <th>0.0</th>\n",
       "      <td>8.398000e+06</td>\n",
       "    </tr>\n",
       "    <tr>\n",
       "      <th>1.0</th>\n",
       "      <td>8.145277e+06</td>\n",
       "    </tr>\n",
       "    <tr>\n",
       "      <th>2.0</th>\n",
       "      <td>7.970519e+06</td>\n",
       "    </tr>\n",
       "    <tr>\n",
       "      <th>3.0</th>\n",
       "      <td>7.346575e+06</td>\n",
       "    </tr>\n",
       "    <tr>\n",
       "      <th>4.0</th>\n",
       "      <td>7.606618e+06</td>\n",
       "    </tr>\n",
       "    <tr>\n",
       "      <th>5.0</th>\n",
       "      <td>7.661225e+06</td>\n",
       "    </tr>\n",
       "    <tr>\n",
       "      <th>6.0</th>\n",
       "      <td>7.108234e+06</td>\n",
       "    </tr>\n",
       "    <tr>\n",
       "      <th>7.0</th>\n",
       "      <td>6.635321e+06</td>\n",
       "    </tr>\n",
       "    <tr>\n",
       "      <th>8.0</th>\n",
       "      <td>6.617244e+06</td>\n",
       "    </tr>\n",
       "    <tr>\n",
       "      <th>9.0</th>\n",
       "      <td>5.516022e+06</td>\n",
       "    </tr>\n",
       "  </tbody>\n",
       "</table>\n",
       "</div>"
      ],
      "text/plain": [
       "                           last_price\n",
       "city_centers_nearest_km              \n",
       "0.0                      8.398000e+06\n",
       "1.0                      8.145277e+06\n",
       "2.0                      7.970519e+06\n",
       "3.0                      7.346575e+06\n",
       "4.0                      7.606618e+06\n",
       "5.0                      7.661225e+06\n",
       "6.0                      7.108234e+06\n",
       "7.0                      6.635321e+06\n",
       "8.0                      6.617244e+06\n",
       "9.0                      5.516022e+06"
      ]
     },
     "execution_count": 30,
     "metadata": {},
     "output_type": "execute_result"
    }
   ],
   "source": [
    "(\n",
    "    data.query('locality_name == \"санкт-петербург\"')\n",
    "    .pivot_table(index='city_centers_nearest_km', values='last_price')\n",
    "    .plot(grid=True, style='o-', xlim=(0,15), figsize=(10, 5))\n",
    ")\n",
    "plt.title('Зависимость цены от удаления от центра города в Санкт-Петербурге')\n",
    "plt.xlabel('Расстояние от центра города (километр)')\n",
    "plt.ylabel('Цена (млн. руб.)')\n",
    "plt.show()\n",
    "print('Таблица средней стоимость квартир в зависимости от удаления центра города Санкт-Петербург')\n",
    "data.query('locality_name == \"санкт-петербург\" and city_centers_nearest_km<10').pivot_table(values='last_price', index='city_centers_nearest_km')"
   ]
  },
  {
   "cell_type": "markdown",
   "metadata": {},
   "source": [
    "### Промежуточный вывод к пятому пункту"
   ]
  },
  {
   "cell_type": "markdown",
   "metadata": {},
   "source": [
    "Из полученных данных видно, что очевидно самая большая стоимость у квартир расположенных в центре, их стоимость уменьшается c ростом расстояния от центра города и далее постепенно стоимость становиться независитмой от удаления."
   ]
  },
  {
   "cell_type": "markdown",
   "metadata": {},
   "source": [
    "<div class=\"alert alert-success\">\n",
    "<b>✔️ Комментарий ревьюера v1:</b>\n",
    "<br>Верно 👍\n",
    "</div>"
   ]
  },
  {
   "cell_type": "markdown",
   "metadata": {
    "id": "h7VpzkIDAwb-"
   },
   "source": [
    "### Напишите общий вывод"
   ]
  },
  {
   "cell_type": "markdown",
   "metadata": {
    "id": "3H4lnp_KAwb-"
   },
   "source": [
    "Что было сделано в процессе работы с даннми таблицы 'Объявления о продаже квартир':\n",
    "1) Была получена информация в виде таблице с 22 столбцами и 23699 строками, были просмотрены данные и на их основе по всем численным значениям построили гистограммы, по которым было определено наличие аномальных значений. \n",
    "2) На данном этапе проводилось предобработка данных в ходе которых были выявлены и устранены дубликаты, данные были преобразованы в нужные типы данных(каждое преобразование обосновывалось), ну а самое главное были удалены многочисленные пропуски(также все замены были обоснованы), без чего конечно дальнейший анализ был бы бессмысленным.\n",
    "3) Этим промежуточным этапом были добавлены новые столбцы в нашу таблицу, для последующего использования при анализе и составлении статитстики.\n",
    "4) Данный этап является основным, так как именно в нем мы делали наш исследовательский анализ.\n",
    "***первым шагом*** было изучение параметров(общая площадь, жилая площадь, площадь кухни, цена объекта, количество комнат, высота потолков, тип этажа квартиры («первый», «последний», «другой»), общее количество этажей в доме, расстояние до центра города в метрах, расстояние до ближайшего парка) объектов и построение отдельных гистограмм для каждого из этих параметров. В следствии чего был получен портрет среднестатистической квартиры на продажу( квартира однокомнатная, находящаяся не на первом и не на последнем этажах, размером примерно 18 или 32 квадрата, с площадью кухни 6 квадратов, стоимостью 3.9млн рублей и потолками 2,65 метров в пятиэтажном доме расположенном в спальных райноах на росстоянии 1200-1500 м от центра города.)\n",
    "***вторым шагом*** мы определили что обычно жилье продается 95 суток, быстрыми будут считаться продажи сделанные за 45 или менее дней, а аномально долгими продажами будут являться начиная с 232 дней.\n",
    "***третий шаг***  - Определили от чего сильнее зависит цена на жилье. Цена зависит от общей площади(с ростом параметра увеличивается), числа комнат(с ростом параметра увеличивается) и от типа нахождения этажа(первый последний или другой).\n",
    "***четвертый шаг*** удалось получить среднюю цену одного квадратного метра в 10 населённых пунктах с наибольшим числом объявлений. Пунктом с самой высокой стоимостью квадратного метра оказался Санкт-петербург с 114849.01 за кв.м, а с самой низкой стоимостью - Выборг, 58141.91 за кв.м.\n",
    "***пятый шаг*** Получили информацию о том, что самая большая стоимость у квартир расположенных в центре, их стоимость уменьшается c ростом расстояния от центра города и далее постепенно стоимость становиться независитмой от удаления."
   ]
  },
  {
   "cell_type": "markdown",
   "metadata": {},
   "source": [
    "<div class=\"alert alert-danger\">\n",
    "<b>❌ Итоговый комментарий ревьюера v1:</b> \n",
    "<br>Необходимо поправить:\n",
    "<br>- вывести всю таблицу\t\n",
    "<br>- построить график для категории этажей\n",
    "\n",
    "<br>После всех внесённых правок не забудь поправить выводы там, где это необходимо\n",
    "</div>"
   ]
  },
  {
   "cell_type": "markdown",
   "metadata": {},
   "source": [
    "<div class=\"alert alert-success\">\n",
    "<b>✔️ Итоговый комментарий ревьюера v2:</b>\n",
    "<br>Все правки выполнены. Молодец!\n",
    "<br>Я рад был поработать над проверкой твоей работы) В качестве дополнительного материала для изучения могу порекомендовать следующий ресурс:\n",
    "\n",
    "\thttps://www.python-graph-gallery.com/\n",
    "<br>В нем содержится большая библиотека графиков с готовым кодом, который можно использовать при работе.\n",
    "<br>Поздравляю со сдачей проекта и желаю удачи в дальнейшем обучении! 😉    \n",
    "</div>"
   ]
  },
  {
   "cell_type": "markdown",
   "metadata": {
    "id": "A90mc0BgAwb-"
   },
   "source": [
    "**Чек-лист готовности проекта**\n",
    "\n",
    "Поставьте 'x' в выполненных пунктах. Далее нажмите Shift+Enter."
   ]
  },
  {
   "cell_type": "markdown",
   "metadata": {
    "id": "ME3sTWm6Awb-"
   },
   "source": [
    "- [x]  Файл с данными открыт.\n",
    "- [x]  Файл с данными изучен: выведены первые строки, использован метод `info()`, построены гистограммы.\n",
    "- [x]  Найдены пропущенные значения.\n",
    "- [x]  Пропущенные значения заполнены там, где это возможно.\n",
    "- [x]  Объяснено, какие пропущенные значения обнаружены.\n",
    "- [x]  В каждом столбце установлен корректный тип данных.\n",
    "- [x]  Объяснено, в каких столбцах изменён тип данных и почему.\n",
    "- [x]  Устранены неявные дубликаты в названиях населённых пунктов.\n",
    "- [x]  Обработаны редкие и выбивающиеся значения (аномалии).\n",
    "- [x]  В таблицу добавлены новые параметры:\n",
    "       – цена одного квадратного метра;\n",
    "       – день публикации объявления (0 - понедельник, 1 - вторник и т. д.);\n",
    "       – месяц публикации объявления;\n",
    "       – год публикации объявления;\n",
    "       – тип этажа квартиры (значения — «первый», «последний», «другой»);\n",
    "       – расстояние до центра города в километрах.\n",
    "- [x]  Изучены и описаны параметры:\n",
    "        - общая площадь;\n",
    "        - жилая площадь;\n",
    "        - площадь кухни;\n",
    "        - цена объекта;\n",
    "        - количество комнат;\n",
    "        - высота потолков;\n",
    "        - тип этажа квартиры («первый», «последний», «другой»);\n",
    "        - общее количество этажей в доме;\n",
    "        - расстояние до центра города в метрах;\n",
    "        - расстояние до ближайшего парка.\n",
    "- [x]  Выполнено задание «Изучите, как быстро продавались квартиры (столбец `days_exposition`)»:\n",
    "    - построена гистограмма;\n",
    "    - рассчитаны среднее и медиана;\n",
    "    - описано, сколько обычно занимает продажа и указано, какие продажи можно считать быстрыми, а какие — необычно долгими.\n",
    "- [x]  Выполнено задание «Определите факторы, которые больше всего влияют на общую (полную) стоимость объекта». Построены графики, которые показывают зависимость цены от параметров:\n",
    "        - общая площадь;\n",
    "        - жилая площадь;\n",
    "        - площадь кухни;\n",
    "        - количество комнат;\n",
    "        - тип этажа, на котором расположена квартира (первый, последний, другой);\n",
    "        - дата размещения (день недели, месяц, год).\n",
    "- [x]  Выполнено задание «Посчитайте среднюю цену одного квадратного метра в 10 населённых пунктах с наибольшим числом объявлений»:\n",
    "    - выделены населённые пункты с самой высокой и низкой стоимостью квадратного метра.\n",
    "- [x]  Выполнено задание «Выделите квартиры в Санкт-Петербурге с помощью столбца `locality_name` и вычислите их среднюю стоимость на разном удалении от центра»:\n",
    "    -  учтён каждый километр расстояния, известны средние цены квартир в одном километре от центра, в двух и так далее;\n",
    "    -  описано, как стоимость объекта зависит от расстояния до центра города;\n",
    "    -  построен график изменения средней цены для каждого километра от центра Петербурга.\n",
    "- [x]  На каждом этапе сделаны промежуточные выводы.\n",
    "- [x]  В конце проекта сделан общий вывод."
   ]
  }
 ],
 "metadata": {
  "ExecuteTimeLog": [
   {
    "duration": 636,
    "start_time": "2024-03-23T13:36:49.839Z"
   },
   {
    "duration": 90,
    "start_time": "2024-03-23T13:38:04.646Z"
   },
   {
    "duration": 106,
    "start_time": "2024-03-23T13:38:28.190Z"
   },
   {
    "duration": 2478,
    "start_time": "2024-03-23T13:39:35.790Z"
   },
   {
    "duration": 2008,
    "start_time": "2024-03-23T13:40:15.863Z"
   },
   {
    "duration": 4,
    "start_time": "2024-03-23T13:52:20.117Z"
   },
   {
    "duration": 11,
    "start_time": "2024-03-23T13:54:32.412Z"
   },
   {
    "duration": 24,
    "start_time": "2024-03-23T14:21:20.862Z"
   },
   {
    "duration": 10,
    "start_time": "2024-03-23T14:23:40.983Z"
   },
   {
    "duration": 12,
    "start_time": "2024-03-23T14:30:39.262Z"
   },
   {
    "duration": 139,
    "start_time": "2024-03-23T14:31:07.558Z"
   },
   {
    "duration": 324,
    "start_time": "2024-03-23T14:31:38.879Z"
   },
   {
    "duration": 147,
    "start_time": "2024-03-23T14:31:44.494Z"
   },
   {
    "duration": 140,
    "start_time": "2024-03-23T14:32:40.182Z"
   },
   {
    "duration": 169,
    "start_time": "2024-03-23T14:32:50.518Z"
   },
   {
    "duration": 158,
    "start_time": "2024-03-23T14:33:33.895Z"
   },
   {
    "duration": 183,
    "start_time": "2024-03-23T14:33:41.598Z"
   },
   {
    "duration": 184,
    "start_time": "2024-03-23T14:39:29.231Z"
   },
   {
    "duration": 251,
    "start_time": "2024-03-23T14:56:37.232Z"
   },
   {
    "duration": 10,
    "start_time": "2024-03-23T14:59:16.573Z"
   },
   {
    "duration": 10,
    "start_time": "2024-03-23T15:13:48.677Z"
   },
   {
    "duration": 13,
    "start_time": "2024-03-23T15:24:26.750Z"
   },
   {
    "duration": 10,
    "start_time": "2024-03-23T15:24:51.045Z"
   },
   {
    "duration": 12,
    "start_time": "2024-03-23T15:25:26.478Z"
   },
   {
    "duration": 28,
    "start_time": "2024-03-23T15:46:23.471Z"
   },
   {
    "duration": 1894,
    "start_time": "2024-03-23T15:47:15.623Z"
   },
   {
    "duration": 22,
    "start_time": "2024-03-23T15:49:53.501Z"
   },
   {
    "duration": 29,
    "start_time": "2024-03-23T15:52:22.581Z"
   },
   {
    "duration": 155,
    "start_time": "2024-03-23T15:56:06.709Z"
   },
   {
    "duration": 22,
    "start_time": "2024-03-23T16:00:22.509Z"
   },
   {
    "duration": 18,
    "start_time": "2024-03-23T16:04:14.764Z"
   },
   {
    "duration": 13,
    "start_time": "2024-03-23T16:04:27.836Z"
   },
   {
    "duration": 18,
    "start_time": "2024-03-23T16:04:37.735Z"
   },
   {
    "duration": 57,
    "start_time": "2024-03-23T16:08:57.835Z"
   },
   {
    "duration": 20,
    "start_time": "2024-03-23T16:09:57.756Z"
   },
   {
    "duration": 17,
    "start_time": "2024-03-23T16:10:56.221Z"
   },
   {
    "duration": 56,
    "start_time": "2024-03-23T16:11:20.877Z"
   },
   {
    "duration": 60,
    "start_time": "2024-03-23T16:21:28.005Z"
   },
   {
    "duration": 57,
    "start_time": "2024-03-23T16:22:35.636Z"
   },
   {
    "duration": 75,
    "start_time": "2024-03-23T16:23:07.724Z"
   },
   {
    "duration": 56,
    "start_time": "2024-03-23T16:23:13.900Z"
   },
   {
    "duration": 62,
    "start_time": "2024-03-23T16:23:23.712Z"
   },
   {
    "duration": 2528,
    "start_time": "2024-04-14T07:35:47.368Z"
   },
   {
    "duration": 7,
    "start_time": "2024-04-14T07:40:27.181Z"
   },
   {
    "duration": 71,
    "start_time": "2024-04-14T07:49:40.815Z"
   },
   {
    "duration": 19,
    "start_time": "2024-04-14T07:50:43.850Z"
   },
   {
    "duration": 21,
    "start_time": "2024-04-14T07:51:00.927Z"
   },
   {
    "duration": 29,
    "start_time": "2024-04-14T07:52:48.726Z"
   },
   {
    "duration": 22,
    "start_time": "2024-04-14T07:53:12.823Z"
   },
   {
    "duration": 23,
    "start_time": "2024-04-14T07:53:37.311Z"
   },
   {
    "duration": 33,
    "start_time": "2024-04-14T07:59:00.864Z"
   },
   {
    "duration": 1626,
    "start_time": "2024-04-14T08:01:38.137Z"
   },
   {
    "duration": 2166,
    "start_time": "2024-04-14T08:01:49.946Z"
   },
   {
    "duration": 7,
    "start_time": "2024-04-14T08:01:57.874Z"
   },
   {
    "duration": 2207,
    "start_time": "2024-04-14T09:38:37.913Z"
   },
   {
    "duration": 41,
    "start_time": "2024-04-14T10:00:08.296Z"
   },
   {
    "duration": 17,
    "start_time": "2024-04-14T10:03:01.152Z"
   },
   {
    "duration": 18,
    "start_time": "2024-04-14T10:21:42.498Z"
   },
   {
    "duration": 81,
    "start_time": "2024-04-14T10:29:42.634Z"
   },
   {
    "duration": 28,
    "start_time": "2024-04-14T10:30:04.853Z"
   },
   {
    "duration": 24,
    "start_time": "2024-04-14T10:31:10.507Z"
   },
   {
    "duration": 6,
    "start_time": "2024-04-14T10:40:03.345Z"
   },
   {
    "duration": 17,
    "start_time": "2024-04-14T10:51:11.024Z"
   },
   {
    "duration": 9,
    "start_time": "2024-04-14T10:56:22.257Z"
   },
   {
    "duration": 9,
    "start_time": "2024-04-14T10:57:51.178Z"
   },
   {
    "duration": 9,
    "start_time": "2024-04-14T10:57:59.848Z"
   },
   {
    "duration": 5,
    "start_time": "2024-04-14T11:09:08.677Z"
   },
   {
    "duration": 68,
    "start_time": "2024-04-14T11:10:13.598Z"
   },
   {
    "duration": 84,
    "start_time": "2024-04-14T11:12:23.748Z"
   },
   {
    "duration": 8,
    "start_time": "2024-04-14T11:13:03.164Z"
   },
   {
    "duration": 10,
    "start_time": "2024-04-14T11:13:49.431Z"
   },
   {
    "duration": 9,
    "start_time": "2024-04-14T11:14:08.668Z"
   },
   {
    "duration": 2261,
    "start_time": "2024-04-14T11:14:45.779Z"
   },
   {
    "duration": 27,
    "start_time": "2024-04-14T11:14:53.922Z"
   },
   {
    "duration": 27,
    "start_time": "2024-04-14T11:15:04.484Z"
   },
   {
    "duration": 17,
    "start_time": "2024-04-14T11:15:28.371Z"
   },
   {
    "duration": 11,
    "start_time": "2024-04-14T11:15:42.258Z"
   },
   {
    "duration": 1640,
    "start_time": "2024-04-14T11:16:10.354Z"
   },
   {
    "duration": 27,
    "start_time": "2024-04-14T11:16:14.306Z"
   },
   {
    "duration": 91,
    "start_time": "2024-04-14T11:16:16.338Z"
   },
   {
    "duration": 1631,
    "start_time": "2024-04-14T11:17:04.862Z"
   },
   {
    "duration": 25,
    "start_time": "2024-04-14T11:17:07.812Z"
   },
   {
    "duration": 1624,
    "start_time": "2024-04-14T11:17:13.479Z"
   },
   {
    "duration": 29,
    "start_time": "2024-04-14T11:17:16.194Z"
   },
   {
    "duration": 1611,
    "start_time": "2024-04-14T11:17:23.242Z"
   },
   {
    "duration": 38,
    "start_time": "2024-04-14T11:17:27.919Z"
   },
   {
    "duration": 75,
    "start_time": "2024-04-14T11:17:30.202Z"
   },
   {
    "duration": 1727,
    "start_time": "2024-04-14T11:17:42.106Z"
   },
   {
    "duration": 26,
    "start_time": "2024-04-14T11:17:59.242Z"
   },
   {
    "duration": 12,
    "start_time": "2024-04-14T11:21:11.095Z"
   },
   {
    "duration": 12,
    "start_time": "2024-04-14T11:21:26.413Z"
   },
   {
    "duration": 11,
    "start_time": "2024-04-14T11:21:36.362Z"
   },
   {
    "duration": 10,
    "start_time": "2024-04-14T11:21:43.860Z"
   },
   {
    "duration": 1630,
    "start_time": "2024-04-14T11:22:37.625Z"
   },
   {
    "duration": 24,
    "start_time": "2024-04-14T11:22:40.447Z"
   },
   {
    "duration": 2184,
    "start_time": "2024-04-14T11:22:49.632Z"
   },
   {
    "duration": 26,
    "start_time": "2024-04-14T11:22:51.960Z"
   },
   {
    "duration": 21,
    "start_time": "2024-04-14T11:23:31.228Z"
   },
   {
    "duration": 12,
    "start_time": "2024-04-14T11:26:20.402Z"
   },
   {
    "duration": 13,
    "start_time": "2024-04-14T11:27:40.989Z"
   },
   {
    "duration": 9,
    "start_time": "2024-04-14T11:28:56.376Z"
   },
   {
    "duration": 9,
    "start_time": "2024-04-14T11:31:18.984Z"
   },
   {
    "duration": 10,
    "start_time": "2024-04-14T11:31:31.663Z"
   },
   {
    "duration": 23,
    "start_time": "2024-04-14T11:33:47.361Z"
   },
   {
    "duration": 1604,
    "start_time": "2024-04-14T11:34:58.576Z"
   },
   {
    "duration": 88,
    "start_time": "2024-04-14T11:35:02.937Z"
   },
   {
    "duration": 26,
    "start_time": "2024-04-14T11:35:36.745Z"
   },
   {
    "duration": 25,
    "start_time": "2024-04-14T11:37:00.761Z"
   },
   {
    "duration": 55,
    "start_time": "2024-04-14T11:39:18.082Z"
   },
   {
    "duration": 37,
    "start_time": "2024-04-14T11:39:31.155Z"
   },
   {
    "duration": 22,
    "start_time": "2024-04-14T11:39:46.587Z"
   },
   {
    "duration": 594,
    "start_time": "2024-04-14T11:40:20.194Z"
   },
   {
    "duration": 23,
    "start_time": "2024-04-14T11:40:38.245Z"
   },
   {
    "duration": 15,
    "start_time": "2024-04-14T11:52:59.269Z"
   },
   {
    "duration": 8,
    "start_time": "2024-04-14T11:53:44.739Z"
   },
   {
    "duration": 2223,
    "start_time": "2024-04-14T11:56:31.773Z"
   },
   {
    "duration": 36,
    "start_time": "2024-04-14T11:56:34.014Z"
   },
   {
    "duration": 74,
    "start_time": "2024-04-14T11:56:46.053Z"
   },
   {
    "duration": 10,
    "start_time": "2024-04-14T11:56:54.183Z"
   },
   {
    "duration": 12,
    "start_time": "2024-04-14T11:57:14.932Z"
   },
   {
    "duration": 2207,
    "start_time": "2024-04-14T11:57:34.757Z"
   },
   {
    "duration": 27,
    "start_time": "2024-04-14T11:57:37.573Z"
   },
   {
    "duration": 11,
    "start_time": "2024-04-14T11:57:47.214Z"
   },
   {
    "duration": 13,
    "start_time": "2024-04-14T12:00:00.830Z"
   },
   {
    "duration": 9,
    "start_time": "2024-04-14T12:00:09.694Z"
   },
   {
    "duration": 5,
    "start_time": "2024-04-14T12:00:16.560Z"
   },
   {
    "duration": 1670,
    "start_time": "2024-04-14T12:00:19.670Z"
   },
   {
    "duration": 24,
    "start_time": "2024-04-14T12:00:23.375Z"
   },
   {
    "duration": 9,
    "start_time": "2024-04-14T12:00:25.517Z"
   },
   {
    "duration": 11,
    "start_time": "2024-04-14T12:02:59.622Z"
   },
   {
    "duration": 10,
    "start_time": "2024-04-14T12:13:14.552Z"
   },
   {
    "duration": 10,
    "start_time": "2024-04-14T12:13:36.416Z"
   },
   {
    "duration": 11,
    "start_time": "2024-04-14T12:14:03.253Z"
   },
   {
    "duration": 11,
    "start_time": "2024-04-14T12:14:38.088Z"
   },
   {
    "duration": 11,
    "start_time": "2024-04-14T12:14:47.215Z"
   },
   {
    "duration": 12,
    "start_time": "2024-04-14T12:14:56.152Z"
   },
   {
    "duration": 83,
    "start_time": "2024-04-14T12:18:33.048Z"
   },
   {
    "duration": 21,
    "start_time": "2024-04-14T12:19:57.561Z"
   },
   {
    "duration": 19,
    "start_time": "2024-04-14T12:20:25.160Z"
   },
   {
    "duration": 35,
    "start_time": "2024-04-14T12:20:52.537Z"
   },
   {
    "duration": 25,
    "start_time": "2024-04-14T12:21:13.241Z"
   },
   {
    "duration": 68,
    "start_time": "2024-04-14T12:25:18.484Z"
   },
   {
    "duration": 2219,
    "start_time": "2024-04-14T12:26:40.377Z"
   },
   {
    "duration": 33,
    "start_time": "2024-04-14T12:26:42.598Z"
   },
   {
    "duration": 16,
    "start_time": "2024-04-14T12:26:51.308Z"
   },
   {
    "duration": 58,
    "start_time": "2024-04-14T12:27:28.728Z"
   },
   {
    "duration": 72,
    "start_time": "2024-04-14T12:29:28.889Z"
   },
   {
    "duration": 107,
    "start_time": "2024-04-14T12:31:09.800Z"
   },
   {
    "duration": 113,
    "start_time": "2024-04-14T12:31:25.954Z"
   },
   {
    "duration": 143,
    "start_time": "2024-04-14T12:33:00.929Z"
   },
   {
    "duration": 268,
    "start_time": "2024-04-14T12:38:49.041Z"
   },
   {
    "duration": 249,
    "start_time": "2024-04-14T12:40:43.537Z"
   },
   {
    "duration": 60,
    "start_time": "2024-04-14T12:41:50.674Z"
   },
   {
    "duration": 328,
    "start_time": "2024-04-14T12:41:59.782Z"
   },
   {
    "duration": 299,
    "start_time": "2024-04-14T12:42:09.747Z"
   },
   {
    "duration": 2222,
    "start_time": "2024-04-14T12:43:43.614Z"
   },
   {
    "duration": 27,
    "start_time": "2024-04-14T12:43:46.512Z"
   },
   {
    "duration": 237,
    "start_time": "2024-04-14T12:43:48.624Z"
   },
   {
    "duration": 2269,
    "start_time": "2024-04-14T12:44:49.595Z"
   },
   {
    "duration": 28,
    "start_time": "2024-04-14T12:44:51.866Z"
   },
   {
    "duration": 238,
    "start_time": "2024-04-14T12:44:55.659Z"
   },
   {
    "duration": 306,
    "start_time": "2024-04-14T12:46:28.164Z"
   },
   {
    "duration": 312,
    "start_time": "2024-04-14T12:47:48.693Z"
   },
   {
    "duration": 281,
    "start_time": "2024-04-14T12:48:12.635Z"
   },
   {
    "duration": 248,
    "start_time": "2024-04-14T12:50:11.276Z"
   },
   {
    "duration": 276,
    "start_time": "2024-04-14T12:51:57.760Z"
   },
   {
    "duration": 978,
    "start_time": "2024-04-14T12:56:37.211Z"
   },
   {
    "duration": 8,
    "start_time": "2024-04-14T12:57:30.885Z"
   },
   {
    "duration": 2209,
    "start_time": "2024-04-14T12:58:23.691Z"
   },
   {
    "duration": 27,
    "start_time": "2024-04-14T12:58:26.083Z"
   },
   {
    "duration": 2252,
    "start_time": "2024-04-14T12:58:38.508Z"
   },
   {
    "duration": 28,
    "start_time": "2024-04-14T12:58:41.153Z"
   },
   {
    "duration": 275,
    "start_time": "2024-04-14T12:58:42.741Z"
   },
   {
    "duration": 245,
    "start_time": "2024-04-14T12:59:32.614Z"
   },
   {
    "duration": 288,
    "start_time": "2024-04-14T13:00:25.414Z"
   },
   {
    "duration": 78,
    "start_time": "2024-04-14T13:06:57.294Z"
   },
   {
    "duration": 227,
    "start_time": "2024-04-14T13:07:12.901Z"
   },
   {
    "duration": 2218,
    "start_time": "2024-04-14T13:07:59.622Z"
   },
   {
    "duration": 27,
    "start_time": "2024-04-14T13:08:03.767Z"
   },
   {
    "duration": 265,
    "start_time": "2024-04-14T13:08:06.637Z"
   },
   {
    "duration": 213,
    "start_time": "2024-04-14T13:08:17.331Z"
   },
   {
    "duration": 1659,
    "start_time": "2024-04-14T13:16:16.717Z"
   },
   {
    "duration": 26,
    "start_time": "2024-04-14T13:16:20.782Z"
   },
   {
    "duration": 19,
    "start_time": "2024-04-14T13:16:54.297Z"
   },
   {
    "duration": 219,
    "start_time": "2024-04-14T13:17:03.310Z"
   },
   {
    "duration": 1616,
    "start_time": "2024-04-14T13:18:24.031Z"
   },
   {
    "duration": 24,
    "start_time": "2024-04-14T13:19:06.414Z"
   },
   {
    "duration": 1530,
    "start_time": "2024-04-14T13:19:12.554Z"
   },
   {
    "duration": 118,
    "start_time": "2024-04-14T13:19:34.399Z"
   },
   {
    "duration": 213,
    "start_time": "2024-04-14T13:20:28.487Z"
   },
   {
    "duration": 365,
    "start_time": "2024-04-14T13:26:31.632Z"
   },
   {
    "duration": 338,
    "start_time": "2024-04-14T13:26:42.974Z"
   },
   {
    "duration": 2115,
    "start_time": "2024-04-14T13:27:21.845Z"
   },
   {
    "duration": 28,
    "start_time": "2024-04-14T13:27:30.112Z"
   },
   {
    "duration": 220,
    "start_time": "2024-04-14T13:27:34.941Z"
   },
   {
    "duration": 220,
    "start_time": "2024-04-14T13:33:48.646Z"
   },
   {
    "duration": 211,
    "start_time": "2024-04-14T13:34:13.614Z"
   },
   {
    "duration": 213,
    "start_time": "2024-04-14T13:34:49.677Z"
   },
   {
    "duration": 1646,
    "start_time": "2024-04-14T13:35:03.829Z"
   },
   {
    "duration": 24,
    "start_time": "2024-04-14T13:35:07.229Z"
   },
   {
    "duration": 258,
    "start_time": "2024-04-14T13:35:10.253Z"
   },
   {
    "duration": 2219,
    "start_time": "2024-04-14T13:35:19.709Z"
   },
   {
    "duration": 29,
    "start_time": "2024-04-14T13:35:22.197Z"
   },
   {
    "duration": 18,
    "start_time": "2024-04-14T13:35:30.937Z"
   },
   {
    "duration": 255,
    "start_time": "2024-04-14T13:35:32.990Z"
   },
   {
    "duration": 237,
    "start_time": "2024-04-14T13:38:21.358Z"
   },
   {
    "duration": 230,
    "start_time": "2024-04-14T13:38:43.742Z"
   },
   {
    "duration": 271,
    "start_time": "2024-04-14T13:45:36.214Z"
   },
   {
    "duration": 245,
    "start_time": "2024-04-14T13:45:49.685Z"
   },
   {
    "duration": 293,
    "start_time": "2024-04-14T13:47:54.540Z"
   },
   {
    "duration": 250,
    "start_time": "2024-04-14T13:55:01.380Z"
   },
   {
    "duration": 253,
    "start_time": "2024-04-14T13:55:53.528Z"
   },
   {
    "duration": 249,
    "start_time": "2024-04-14T13:57:38.060Z"
   },
   {
    "duration": 238,
    "start_time": "2024-04-14T13:58:09.092Z"
   },
   {
    "duration": 11,
    "start_time": "2024-04-14T14:15:01.018Z"
   },
   {
    "duration": 8,
    "start_time": "2024-04-14T14:15:18.026Z"
   },
   {
    "duration": 14,
    "start_time": "2024-04-14T14:16:19.906Z"
   },
   {
    "duration": 299,
    "start_time": "2024-04-14T14:29:04.719Z"
   },
   {
    "duration": 359,
    "start_time": "2024-04-14T14:29:44.473Z"
   },
   {
    "duration": 305,
    "start_time": "2024-04-14T14:29:59.023Z"
   },
   {
    "duration": 243,
    "start_time": "2024-04-14T14:31:46.350Z"
   },
   {
    "duration": 6,
    "start_time": "2024-04-14T15:20:36.654Z"
   },
   {
    "duration": 815,
    "start_time": "2024-04-14T15:26:47.830Z"
   },
   {
    "duration": 37,
    "start_time": "2024-04-14T15:27:05.126Z"
   },
   {
    "duration": 255,
    "start_time": "2024-04-14T15:29:42.110Z"
   },
   {
    "duration": 297,
    "start_time": "2024-04-14T15:29:44.326Z"
   },
   {
    "duration": 33,
    "start_time": "2024-04-14T15:29:46.229Z"
   },
   {
    "duration": 254,
    "start_time": "2024-04-14T15:31:14.800Z"
   },
   {
    "duration": 313,
    "start_time": "2024-04-14T15:31:20.326Z"
   },
   {
    "duration": 32,
    "start_time": "2024-04-14T15:31:22.334Z"
   },
   {
    "duration": 2230,
    "start_time": "2024-04-14T15:31:36.314Z"
   },
   {
    "duration": 27,
    "start_time": "2024-04-14T15:31:39.304Z"
   },
   {
    "duration": 239,
    "start_time": "2024-04-14T15:31:43.328Z"
   },
   {
    "duration": 305,
    "start_time": "2024-04-14T15:31:47.008Z"
   },
   {
    "duration": 33,
    "start_time": "2024-04-14T15:31:49.672Z"
   },
   {
    "duration": 261,
    "start_time": "2024-04-14T15:34:28.854Z"
   },
   {
    "duration": 285,
    "start_time": "2024-04-14T15:34:31.627Z"
   },
   {
    "duration": 33,
    "start_time": "2024-04-14T15:34:33.864Z"
   },
   {
    "duration": 65,
    "start_time": "2024-04-14T15:35:57.336Z"
   },
   {
    "duration": 2189,
    "start_time": "2024-04-14T15:36:07.647Z"
   },
   {
    "duration": 41,
    "start_time": "2024-04-14T15:36:15.491Z"
   },
   {
    "duration": 254,
    "start_time": "2024-04-14T15:36:55.403Z"
   },
   {
    "duration": 233,
    "start_time": "2024-04-14T15:37:55.848Z"
   },
   {
    "duration": 294,
    "start_time": "2024-04-14T15:42:40.976Z"
   },
   {
    "duration": 6,
    "start_time": "2024-04-14T15:44:56.368Z"
   },
   {
    "duration": 64,
    "start_time": "2024-04-14T15:47:53.864Z"
   },
   {
    "duration": 11,
    "start_time": "2024-04-14T15:48:28.847Z"
   },
   {
    "duration": 191,
    "start_time": "2024-04-14T15:48:42.107Z"
   },
   {
    "duration": 242,
    "start_time": "2024-04-14T15:49:06.041Z"
   },
   {
    "duration": 2172,
    "start_time": "2024-04-14T15:50:47.096Z"
   },
   {
    "duration": 31,
    "start_time": "2024-04-14T15:50:49.984Z"
   },
   {
    "duration": 266,
    "start_time": "2024-04-14T15:50:54.416Z"
   },
   {
    "duration": 292,
    "start_time": "2024-04-14T15:50:56.928Z"
   },
   {
    "duration": 194,
    "start_time": "2024-04-14T15:51:00.739Z"
   },
   {
    "duration": 7,
    "start_time": "2024-04-14T15:53:14.248Z"
   },
   {
    "duration": 270,
    "start_time": "2024-04-14T15:56:01.064Z"
   },
   {
    "duration": 197,
    "start_time": "2024-04-14T15:56:43.217Z"
   },
   {
    "duration": 197,
    "start_time": "2024-04-14T15:57:07.679Z"
   },
   {
    "duration": 187,
    "start_time": "2024-04-14T15:57:15.953Z"
   },
   {
    "duration": 222,
    "start_time": "2024-04-14T15:58:43.626Z"
   },
   {
    "duration": 187,
    "start_time": "2024-04-14T15:59:11.440Z"
   },
   {
    "duration": 247,
    "start_time": "2024-04-14T15:59:32.736Z"
   },
   {
    "duration": 6,
    "start_time": "2024-04-14T16:07:01.048Z"
   },
   {
    "duration": 9,
    "start_time": "2024-04-14T16:07:24.880Z"
   },
   {
    "duration": 10,
    "start_time": "2024-04-14T16:07:37.704Z"
   },
   {
    "duration": 206,
    "start_time": "2024-04-14T16:09:49.032Z"
   },
   {
    "duration": 189,
    "start_time": "2024-04-14T16:10:26.224Z"
   },
   {
    "duration": 193,
    "start_time": "2024-04-14T16:10:43.808Z"
   },
   {
    "duration": 194,
    "start_time": "2024-04-14T16:12:24.695Z"
   },
   {
    "duration": 238,
    "start_time": "2024-04-14T16:12:55.698Z"
   },
   {
    "duration": 192,
    "start_time": "2024-04-14T16:13:02.481Z"
   },
   {
    "duration": 192,
    "start_time": "2024-04-14T16:13:15.735Z"
   },
   {
    "duration": 53,
    "start_time": "2024-04-14T16:14:23.072Z"
   },
   {
    "duration": 195,
    "start_time": "2024-04-14T16:14:36.265Z"
   },
   {
    "duration": 194,
    "start_time": "2024-04-14T16:14:51.400Z"
   },
   {
    "duration": 120,
    "start_time": "2024-04-14T16:15:10.544Z"
   },
   {
    "duration": 116,
    "start_time": "2024-04-14T16:15:19.799Z"
   },
   {
    "duration": 7,
    "start_time": "2024-04-14T16:16:02.167Z"
   },
   {
    "duration": 244,
    "start_time": "2024-04-14T16:16:39.543Z"
   },
   {
    "duration": 191,
    "start_time": "2024-04-14T16:16:49.881Z"
   },
   {
    "duration": 121,
    "start_time": "2024-04-14T16:16:56.833Z"
   },
   {
    "duration": 147,
    "start_time": "2024-04-14T16:17:02.644Z"
   },
   {
    "duration": 126,
    "start_time": "2024-04-14T16:17:50.736Z"
   },
   {
    "duration": 145,
    "start_time": "2024-04-14T16:18:52.816Z"
   },
   {
    "duration": 161,
    "start_time": "2024-04-14T16:19:11.055Z"
   },
   {
    "duration": 120,
    "start_time": "2024-04-14T16:26:59.194Z"
   },
   {
    "duration": 268,
    "start_time": "2024-04-14T16:28:50.200Z"
   },
   {
    "duration": 206,
    "start_time": "2024-04-14T16:29:11.760Z"
   },
   {
    "duration": 203,
    "start_time": "2024-04-14T16:29:29.016Z"
   },
   {
    "duration": 198,
    "start_time": "2024-04-14T16:31:33.918Z"
   },
   {
    "duration": 203,
    "start_time": "2024-04-14T16:32:04.018Z"
   },
   {
    "duration": 200,
    "start_time": "2024-04-14T16:32:20.473Z"
   },
   {
    "duration": 258,
    "start_time": "2024-04-14T16:32:34.347Z"
   },
   {
    "duration": 195,
    "start_time": "2024-04-14T16:34:01.480Z"
   },
   {
    "duration": 205,
    "start_time": "2024-04-14T16:34:28.448Z"
   },
   {
    "duration": 187,
    "start_time": "2024-04-14T16:34:40.808Z"
   },
   {
    "duration": 191,
    "start_time": "2024-04-14T16:34:47.765Z"
   },
   {
    "duration": 242,
    "start_time": "2024-04-14T16:41:56.129Z"
   },
   {
    "duration": 180,
    "start_time": "2024-04-14T16:42:17.589Z"
   },
   {
    "duration": 188,
    "start_time": "2024-04-14T16:42:32.998Z"
   },
   {
    "duration": 184,
    "start_time": "2024-04-14T16:43:28.147Z"
   },
   {
    "duration": 193,
    "start_time": "2024-04-14T16:44:06.458Z"
   },
   {
    "duration": 183,
    "start_time": "2024-04-14T16:47:12.311Z"
   },
   {
    "duration": 240,
    "start_time": "2024-04-14T16:48:17.678Z"
   },
   {
    "duration": 159,
    "start_time": "2024-04-14T16:58:16.021Z"
   },
   {
    "duration": 6,
    "start_time": "2024-04-14T17:21:08.693Z"
   },
   {
    "duration": 77,
    "start_time": "2024-04-14T17:24:32.262Z"
   },
   {
    "duration": 195,
    "start_time": "2024-04-14T17:24:39.206Z"
   },
   {
    "duration": 1611,
    "start_time": "2024-04-14T17:26:56.972Z"
   },
   {
    "duration": 19,
    "start_time": "2024-04-14T17:27:01.909Z"
   },
   {
    "duration": 16,
    "start_time": "2024-04-14T17:27:30.906Z"
   },
   {
    "duration": 2217,
    "start_time": "2024-04-14T17:32:20.387Z"
   },
   {
    "duration": 28,
    "start_time": "2024-04-14T17:32:24.452Z"
   },
   {
    "duration": 247,
    "start_time": "2024-04-14T17:32:36.820Z"
   },
   {
    "duration": 304,
    "start_time": "2024-04-14T17:32:42.844Z"
   },
   {
    "duration": 279,
    "start_time": "2024-04-14T17:32:48.141Z"
   },
   {
    "duration": 251,
    "start_time": "2024-04-14T17:32:49.539Z"
   },
   {
    "duration": 189,
    "start_time": "2024-04-14T17:32:53.987Z"
   },
   {
    "duration": 183,
    "start_time": "2024-04-14T17:32:55.676Z"
   },
   {
    "duration": 194,
    "start_time": "2024-04-14T17:32:56.965Z"
   },
   {
    "duration": 120,
    "start_time": "2024-04-14T17:32:57.758Z"
   },
   {
    "duration": 141,
    "start_time": "2024-04-14T17:32:58.476Z"
   },
   {
    "duration": 119,
    "start_time": "2024-04-14T17:32:59.084Z"
   },
   {
    "duration": 248,
    "start_time": "2024-04-14T17:32:59.691Z"
   },
   {
    "duration": 227,
    "start_time": "2024-04-14T17:33:00.318Z"
   },
   {
    "duration": 191,
    "start_time": "2024-04-14T17:33:00.933Z"
   },
   {
    "duration": 188,
    "start_time": "2024-04-14T17:33:11.691Z"
   },
   {
    "duration": 2189,
    "start_time": "2024-04-14T17:37:27.835Z"
   },
   {
    "duration": 2128,
    "start_time": "2024-04-14T17:37:46.956Z"
   },
   {
    "duration": 28,
    "start_time": "2024-04-14T17:37:55.503Z"
   },
   {
    "duration": 269,
    "start_time": "2024-04-14T17:38:01.467Z"
   },
   {
    "duration": 293,
    "start_time": "2024-04-14T17:38:05.723Z"
   },
   {
    "duration": 198,
    "start_time": "2024-04-14T17:38:09.352Z"
   },
   {
    "duration": 265,
    "start_time": "2024-04-14T17:38:10.157Z"
   },
   {
    "duration": 188,
    "start_time": "2024-04-14T17:38:10.674Z"
   },
   {
    "duration": 197,
    "start_time": "2024-04-14T17:38:11.490Z"
   },
   {
    "duration": 123,
    "start_time": "2024-04-14T17:38:12.366Z"
   },
   {
    "duration": 150,
    "start_time": "2024-04-14T17:38:13.300Z"
   },
   {
    "duration": 111,
    "start_time": "2024-04-14T17:38:14.051Z"
   },
   {
    "duration": 199,
    "start_time": "2024-04-14T17:38:14.766Z"
   },
   {
    "duration": 250,
    "start_time": "2024-04-14T17:38:15.422Z"
   },
   {
    "duration": 198,
    "start_time": "2024-04-14T17:38:16.123Z"
   },
   {
    "duration": 190,
    "start_time": "2024-04-14T17:38:20.380Z"
   },
   {
    "duration": 17,
    "start_time": "2024-04-14T17:39:21.091Z"
   },
   {
    "duration": 2155,
    "start_time": "2024-04-14T17:39:44.845Z"
   },
   {
    "duration": 79,
    "start_time": "2024-04-14T17:39:48.521Z"
   },
   {
    "duration": 259,
    "start_time": "2024-04-14T17:39:49.185Z"
   },
   {
    "duration": 13,
    "start_time": "2024-04-14T17:39:51.193Z"
   },
   {
    "duration": 2194,
    "start_time": "2024-04-14T17:40:04.230Z"
   },
   {
    "duration": 79,
    "start_time": "2024-04-14T17:40:07.857Z"
   },
   {
    "duration": 2131,
    "start_time": "2024-04-14T17:40:56.337Z"
   },
   {
    "duration": 28,
    "start_time": "2024-04-14T17:41:05.557Z"
   },
   {
    "duration": 246,
    "start_time": "2024-04-14T17:41:07.450Z"
   },
   {
    "duration": 289,
    "start_time": "2024-04-14T17:41:11.608Z"
   },
   {
    "duration": 189,
    "start_time": "2024-04-14T17:41:14.681Z"
   },
   {
    "duration": 261,
    "start_time": "2024-04-14T17:41:15.685Z"
   },
   {
    "duration": 184,
    "start_time": "2024-04-14T17:41:16.682Z"
   },
   {
    "duration": 200,
    "start_time": "2024-04-14T17:41:20.153Z"
   },
   {
    "duration": 139,
    "start_time": "2024-04-14T17:41:24.787Z"
   },
   {
    "duration": 151,
    "start_time": "2024-04-14T17:41:28.699Z"
   },
   {
    "duration": 119,
    "start_time": "2024-04-14T17:41:31.617Z"
   },
   {
    "duration": 201,
    "start_time": "2024-04-14T17:41:33.952Z"
   },
   {
    "duration": 250,
    "start_time": "2024-04-14T17:41:37.099Z"
   },
   {
    "duration": 205,
    "start_time": "2024-04-14T17:41:39.060Z"
   },
   {
    "duration": 190,
    "start_time": "2024-04-14T17:41:46.121Z"
   },
   {
    "duration": 17,
    "start_time": "2024-04-14T18:04:38.730Z"
   },
   {
    "duration": 62,
    "start_time": "2024-04-14T18:05:12.426Z"
   },
   {
    "duration": 14,
    "start_time": "2024-04-14T18:05:19.922Z"
   },
   {
    "duration": 8,
    "start_time": "2024-04-14T18:07:00.876Z"
   },
   {
    "duration": 21,
    "start_time": "2024-04-14T18:07:56.620Z"
   },
   {
    "duration": 7,
    "start_time": "2024-04-14T18:08:15.046Z"
   },
   {
    "duration": 13,
    "start_time": "2024-04-14T18:08:22.284Z"
   },
   {
    "duration": 51,
    "start_time": "2024-04-14T18:17:11.960Z"
   },
   {
    "duration": 118,
    "start_time": "2024-04-14T18:17:17.053Z"
   },
   {
    "duration": 67,
    "start_time": "2024-04-14T18:17:20.136Z"
   },
   {
    "duration": 113,
    "start_time": "2024-04-14T18:17:35.636Z"
   },
   {
    "duration": 131,
    "start_time": "2024-04-14T18:18:02.864Z"
   },
   {
    "duration": 126,
    "start_time": "2024-04-14T18:18:03.864Z"
   },
   {
    "duration": 122,
    "start_time": "2024-04-14T18:18:05.792Z"
   },
   {
    "duration": 14,
    "start_time": "2024-04-14T18:18:15.233Z"
   },
   {
    "duration": 134,
    "start_time": "2024-04-14T18:18:58.937Z"
   },
   {
    "duration": 166,
    "start_time": "2024-04-14T18:19:25.224Z"
   },
   {
    "duration": 118,
    "start_time": "2024-04-14T18:19:27.977Z"
   },
   {
    "duration": 7,
    "start_time": "2024-04-14T19:24:49.757Z"
   },
   {
    "duration": 24,
    "start_time": "2024-04-14T19:25:04.500Z"
   },
   {
    "duration": 21,
    "start_time": "2024-04-14T19:25:58.126Z"
   },
   {
    "duration": 6,
    "start_time": "2024-04-14T19:34:57.816Z"
   },
   {
    "duration": 11,
    "start_time": "2024-04-14T19:35:03.311Z"
   },
   {
    "duration": 151,
    "start_time": "2024-04-14T19:36:16.471Z"
   },
   {
    "duration": 4730,
    "start_time": "2024-04-15T05:29:56.765Z"
   },
   {
    "duration": 97,
    "start_time": "2024-04-15T05:30:01.497Z"
   },
   {
    "duration": 2805,
    "start_time": "2024-04-15T05:30:01.596Z"
   },
   {
    "duration": 403,
    "start_time": "2024-04-15T05:30:04.403Z"
   },
   {
    "duration": 262,
    "start_time": "2024-04-15T05:30:04.807Z"
   },
   {
    "duration": 1341,
    "start_time": "2024-04-15T05:30:05.070Z"
   },
   {
    "duration": 498,
    "start_time": "2024-04-15T05:30:06.412Z"
   },
   {
    "duration": 496,
    "start_time": "2024-04-15T05:30:06.912Z"
   },
   {
    "duration": 399,
    "start_time": "2024-04-15T05:30:07.410Z"
   },
   {
    "duration": 403,
    "start_time": "2024-04-15T05:30:07.812Z"
   },
   {
    "duration": 298,
    "start_time": "2024-04-15T05:30:08.216Z"
   },
   {
    "duration": 578,
    "start_time": "2024-04-15T05:30:08.516Z"
   },
   {
    "duration": 699,
    "start_time": "2024-04-15T05:30:09.097Z"
   },
   {
    "duration": 500,
    "start_time": "2024-04-15T05:30:09.798Z"
   },
   {
    "duration": 525,
    "start_time": "2024-04-15T05:30:10.299Z"
   },
   {
    "duration": 72,
    "start_time": "2024-04-15T05:30:10.826Z"
   },
   {
    "duration": 18,
    "start_time": "2024-04-15T05:30:10.900Z"
   },
   {
    "duration": 83,
    "start_time": "2024-04-15T05:30:10.920Z"
   },
   {
    "duration": 12,
    "start_time": "2024-04-15T05:30:11.005Z"
   },
   {
    "duration": 308,
    "start_time": "2024-04-15T05:30:11.018Z"
   },
   {
    "duration": 303,
    "start_time": "2024-04-15T05:30:11.327Z"
   },
   {
    "duration": 367,
    "start_time": "2024-04-15T05:30:11.632Z"
   },
   {
    "duration": 320,
    "start_time": "2024-04-15T05:30:12.001Z"
   },
   {
    "duration": 286,
    "start_time": "2024-04-15T05:30:12.323Z"
   },
   {
    "duration": 418,
    "start_time": "2024-04-15T05:30:12.611Z"
   },
   {
    "duration": 303,
    "start_time": "2024-04-15T05:30:13.031Z"
   },
   {
    "duration": 364,
    "start_time": "2024-04-15T05:30:13.336Z"
   },
   {
    "duration": 27,
    "start_time": "2024-04-15T05:30:13.703Z"
   },
   {
    "duration": 65,
    "start_time": "2024-04-15T05:30:13.732Z"
   },
   {
    "duration": 339,
    "start_time": "2024-04-15T05:30:13.799Z"
   },
   {
    "duration": 7,
    "start_time": "2024-04-15T05:32:08.673Z"
   },
   {
    "duration": 90,
    "start_time": "2024-04-15T05:32:45.437Z"
   },
   {
    "duration": 3069,
    "start_time": "2024-04-15T12:28:44.207Z"
   },
   {
    "duration": 2156,
    "start_time": "2024-04-15T12:31:08.356Z"
   },
   {
    "duration": 2148,
    "start_time": "2024-04-15T12:32:01.417Z"
   },
   {
    "duration": 999,
    "start_time": "2024-04-15T12:48:21.141Z"
   },
   {
    "duration": 32,
    "start_time": "2024-04-15T12:48:32.835Z"
   },
   {
    "duration": 278,
    "start_time": "2024-04-15T12:48:54.167Z"
   },
   {
    "duration": 338,
    "start_time": "2024-04-15T12:48:56.019Z"
   },
   {
    "duration": 252,
    "start_time": "2024-04-15T12:48:58.074Z"
   },
   {
    "duration": 252,
    "start_time": "2024-04-15T12:49:05.899Z"
   },
   {
    "duration": 245,
    "start_time": "2024-04-15T12:49:12.075Z"
   },
   {
    "duration": 380,
    "start_time": "2024-04-15T12:49:15.085Z"
   },
   {
    "duration": 150,
    "start_time": "2024-04-15T12:49:17.044Z"
   },
   {
    "duration": 192,
    "start_time": "2024-04-15T12:49:21.194Z"
   },
   {
    "duration": 176,
    "start_time": "2024-04-15T12:49:34.729Z"
   },
   {
    "duration": 2713,
    "start_time": "2024-04-15T12:50:02.811Z"
   },
   {
    "duration": 34,
    "start_time": "2024-04-15T12:50:08.659Z"
   },
   {
    "duration": 299,
    "start_time": "2024-04-15T12:50:13.059Z"
   },
   {
    "duration": 331,
    "start_time": "2024-04-15T12:50:18.955Z"
   },
   {
    "duration": 257,
    "start_time": "2024-04-15T12:50:21.187Z"
   },
   {
    "duration": 321,
    "start_time": "2024-04-15T12:50:23.115Z"
   },
   {
    "duration": 236,
    "start_time": "2024-04-15T12:50:26.637Z"
   },
   {
    "duration": 252,
    "start_time": "2024-04-15T12:50:29.100Z"
   },
   {
    "duration": 157,
    "start_time": "2024-04-15T12:50:32.939Z"
   },
   {
    "duration": 194,
    "start_time": "2024-04-15T12:50:36.347Z"
   },
   {
    "duration": 149,
    "start_time": "2024-04-15T12:50:47.971Z"
   },
   {
    "duration": 143,
    "start_time": "2024-04-15T12:53:29.542Z"
   },
   {
    "duration": 142,
    "start_time": "2024-04-15T12:54:28.450Z"
   },
   {
    "duration": 125,
    "start_time": "2024-04-15T12:55:42.722Z"
   },
   {
    "duration": 307,
    "start_time": "2024-04-15T12:55:56.458Z"
   },
   {
    "duration": 127,
    "start_time": "2024-04-15T12:56:07.036Z"
   },
   {
    "duration": 130,
    "start_time": "2024-04-15T12:56:20.133Z"
   },
   {
    "duration": 124,
    "start_time": "2024-04-15T12:57:30.470Z"
   },
   {
    "duration": 3150,
    "start_time": "2024-04-15T17:31:33.546Z"
   },
   {
    "duration": 34,
    "start_time": "2024-04-15T17:31:36.698Z"
   },
   {
    "duration": 313,
    "start_time": "2024-04-15T17:31:36.733Z"
   },
   {
    "duration": 382,
    "start_time": "2024-04-15T17:31:37.049Z"
   },
   {
    "duration": 277,
    "start_time": "2024-04-15T17:31:37.432Z"
   },
   {
    "duration": 343,
    "start_time": "2024-04-15T17:31:37.710Z"
   },
   {
    "duration": 252,
    "start_time": "2024-04-15T17:31:38.054Z"
   },
   {
    "duration": 267,
    "start_time": "2024-04-15T17:31:38.308Z"
   },
   {
    "duration": 170,
    "start_time": "2024-04-15T17:31:38.577Z"
   },
   {
    "duration": 204,
    "start_time": "2024-04-15T17:31:38.750Z"
   },
   {
    "duration": 131,
    "start_time": "2024-04-15T17:31:38.955Z"
   },
   {
    "duration": 264,
    "start_time": "2024-04-15T17:31:39.088Z"
   },
   {
    "duration": 328,
    "start_time": "2024-04-15T17:31:39.354Z"
   },
   {
    "duration": 270,
    "start_time": "2024-04-15T17:31:39.683Z"
   },
   {
    "duration": 260,
    "start_time": "2024-04-15T17:31:39.955Z"
   },
   {
    "duration": 39,
    "start_time": "2024-04-15T17:31:40.217Z"
   },
   {
    "duration": 18,
    "start_time": "2024-04-15T17:31:40.258Z"
   },
   {
    "duration": 26,
    "start_time": "2024-04-15T17:31:40.277Z"
   },
   {
    "duration": 31,
    "start_time": "2024-04-15T17:31:40.304Z"
   },
   {
    "duration": 146,
    "start_time": "2024-04-15T17:31:40.337Z"
   },
   {
    "duration": 147,
    "start_time": "2024-04-15T17:31:40.484Z"
   },
   {
    "duration": 194,
    "start_time": "2024-04-15T17:31:40.633Z"
   },
   {
    "duration": 170,
    "start_time": "2024-04-15T17:31:40.829Z"
   },
   {
    "duration": 152,
    "start_time": "2024-04-15T17:31:41.000Z"
   },
   {
    "duration": 273,
    "start_time": "2024-04-15T17:31:41.154Z"
   },
   {
    "duration": 159,
    "start_time": "2024-04-15T17:31:41.429Z"
   },
   {
    "duration": 169,
    "start_time": "2024-04-15T17:31:41.590Z"
   },
   {
    "duration": 27,
    "start_time": "2024-04-15T17:31:41.763Z"
   },
   {
    "duration": 14,
    "start_time": "2024-04-15T17:31:41.792Z"
   },
   {
    "duration": 223,
    "start_time": "2024-04-15T17:31:41.808Z"
   }
  ],
  "colab": {
   "provenance": []
  },
  "kernelspec": {
   "display_name": "Python 3 (ipykernel)",
   "language": "python",
   "name": "python3"
  },
  "language_info": {
   "codemirror_mode": {
    "name": "ipython",
    "version": 3
   },
   "file_extension": ".py",
   "mimetype": "text/x-python",
   "name": "python",
   "nbconvert_exporter": "python",
   "pygments_lexer": "ipython3",
   "version": "3.11.5"
  },
  "toc": {
   "base_numbering": 1,
   "nav_menu": {},
   "number_sections": true,
   "sideBar": true,
   "skip_h1_title": true,
   "title_cell": "Table of Contents",
   "title_sidebar": "Contents",
   "toc_cell": false,
   "toc_position": {},
   "toc_section_display": true,
   "toc_window_display": false
  }
 },
 "nbformat": 4,
 "nbformat_minor": 1
}
